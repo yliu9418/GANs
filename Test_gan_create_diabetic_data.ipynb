{
 "cells": [
  {
   "cell_type": "markdown",
   "metadata": {
    "id": "V5lDvR9RgqIf"
   },
   "source": [
    "# Table Evaluator"
   ]
  },
  {
   "cell_type": "markdown",
   "metadata": {
    "id": "5_k3Yffrgv8k"
   },
   "source": [
    "To evaluate how similar a synthesized dataset is to a real data\n",
    "https://baukebrenninkmeijer.github.io/table-evaluator/index.html "
   ]
  },
  {
   "cell_type": "markdown",
   "metadata": {},
   "source": [
    "## Base Accuracy for Real Dataset"
   ]
  },
  {
   "cell_type": "code",
   "execution_count": 1,
   "metadata": {
    "id": "2N0c2gs7gwEh"
   },
   "outputs": [],
   "source": [
    "import numpy as np\n",
    "import pandas as pd\n",
    "%matplotlib inline\n",
    "import os\n",
    "import matplotlib.pyplot as plt\n",
    "\n",
    "from keras.models import Sequential\n",
    "from keras.layers import Dense\n",
    "\n",
    "from numpy.random import randn\n",
    "from matplotlib import pyplot"
   ]
  },
  {
   "cell_type": "code",
   "execution_count": 2,
   "metadata": {
    "colab": {
     "base_uri": "https://localhost:8080/"
    },
    "id": "bh5LAQlhgwHP",
    "outputId": "5d42f1a5-8074-42f5-a11c-e0f14423c819"
   },
   "outputs": [
    {
     "name": "stdout",
     "output_type": "stream",
     "text": [
      "(768, 9)\n",
      "     Pregnancies  Glucose  BloodPressure  SkinThickness  Insulin   BMI  \\\n",
      "763           10      101             76             48      180  32.9   \n",
      "764            2      122             70             27        0  36.8   \n",
      "765            5      121             72             23      112  26.2   \n",
      "766            1      126             60              0        0  30.1   \n",
      "767            1       93             70             31        0  30.4   \n",
      "\n",
      "     DiabetesPedigreeFunction  Age  Outcome  \n",
      "763                     0.171   63        0  \n",
      "764                     0.340   27        0  \n",
      "765                     0.245   30        0  \n",
      "766                     0.349   47        1  \n",
      "767                     0.315   23        0  \n",
      "Index(['Pregnancies', 'Glucose', 'BloodPressure', 'SkinThickness', 'Insulin',\n",
      "       'BMI', 'DiabetesPedigreeFunction', 'Age', 'Outcome'],\n",
      "      dtype='object')\n"
     ]
    }
   ],
   "source": [
    "data = pd.read_csv('diabetes.csv')\n",
    "\n",
    "print (data.shape)\n",
    "print (data.tail())\n",
    "print (data.columns)"
   ]
  },
  {
   "cell_type": "code",
   "execution_count": 3,
   "metadata": {
    "colab": {
     "base_uri": "https://localhost:8080/"
    },
    "id": "mnAozogMgwJ5",
    "outputId": "23771887-565b-4bc1-b032-c2457345b240"
   },
   "outputs": [
    {
     "data": {
      "text/plain": [
       "Index(['Pregnancies', 'Glucose', 'BloodPressure', 'SkinThickness', 'Insulin',\n",
       "       'BMI', 'DiabetesPedigreeFunction', 'Age', 'Outcome'],\n",
       "      dtype='object')"
      ]
     },
     "execution_count": 3,
     "metadata": {},
     "output_type": "execute_result"
    }
   ],
   "source": [
    "data.columns"
   ]
  },
  {
   "cell_type": "code",
   "execution_count": 4,
   "metadata": {
    "colab": {
     "base_uri": "https://localhost:8080/"
    },
    "id": "0qrzQmE-gwMm",
    "outputId": "883a9c98-e2e3-40f8-cc58-0791336199f0"
   },
   "outputs": [
    {
     "data": {
      "text/plain": [
       "Pregnancies                 0\n",
       "Glucose                     0\n",
       "BloodPressure               0\n",
       "SkinThickness               0\n",
       "Insulin                     0\n",
       "BMI                         0\n",
       "DiabetesPedigreeFunction    0\n",
       "Age                         0\n",
       "Outcome                     0\n",
       "dtype: int64"
      ]
     },
     "execution_count": 4,
     "metadata": {},
     "output_type": "execute_result"
    }
   ],
   "source": [
    "data.isnull().sum()"
   ]
  },
  {
   "cell_type": "code",
   "execution_count": 5,
   "metadata": {
    "colab": {
     "base_uri": "https://localhost:8080/"
    },
    "id": "SAm1QmGvgwPK",
    "outputId": "d51d5538-dedf-434b-c1da-3c12f3fb2972"
   },
   "outputs": [
    {
     "data": {
      "text/plain": [
       "(768, 9)"
      ]
     },
     "execution_count": 5,
     "metadata": {},
     "output_type": "execute_result"
    }
   ],
   "source": [
    "data.shape"
   ]
  },
  {
   "cell_type": "code",
   "execution_count": 6,
   "metadata": {
    "colab": {
     "base_uri": "https://localhost:8080/"
    },
    "id": "t0xDG1GlgwSU",
    "outputId": "cb13fb98-958e-42a8-ab62-528e33e5c5c6"
   },
   "outputs": [
    {
     "name": "stdout",
     "output_type": "stream",
     "text": [
      "<class 'pandas.core.frame.DataFrame'>\n",
      "RangeIndex: 768 entries, 0 to 767\n",
      "Data columns (total 9 columns):\n",
      " #   Column                    Non-Null Count  Dtype  \n",
      "---  ------                    --------------  -----  \n",
      " 0   Pregnancies               768 non-null    int64  \n",
      " 1   Glucose                   768 non-null    int64  \n",
      " 2   BloodPressure             768 non-null    int64  \n",
      " 3   SkinThickness             768 non-null    int64  \n",
      " 4   Insulin                   768 non-null    int64  \n",
      " 5   BMI                       768 non-null    float64\n",
      " 6   DiabetesPedigreeFunction  768 non-null    float64\n",
      " 7   Age                       768 non-null    int64  \n",
      " 8   Outcome                   768 non-null    int64  \n",
      "dtypes: float64(2), int64(7)\n",
      "memory usage: 54.1 KB\n"
     ]
    }
   ],
   "source": [
    "data.info()"
   ]
  },
  {
   "cell_type": "code",
   "execution_count": 7,
   "metadata": {
    "colab": {
     "base_uri": "https://localhost:8080/"
    },
    "id": "Er_p974vgwVk",
    "outputId": "6b3efd6f-d2c3-4619-9d6f-416489bb9219"
   },
   "outputs": [
    {
     "data": {
      "text/plain": [
       "array([1, 0])"
      ]
     },
     "execution_count": 7,
     "metadata": {},
     "output_type": "execute_result"
    }
   ],
   "source": [
    "data.Outcome.unique()"
   ]
  },
  {
   "cell_type": "code",
   "execution_count": 8,
   "metadata": {
    "id": "JYB4FgHjgwY7"
   },
   "outputs": [],
   "source": [
    "features = ['Pregnancies', 'Glucose', 'BloodPressure', 'SkinThickness', 'Insulin',\n",
    "       'BMI', 'DiabetesPedigreeFunction', 'Age']\n",
    "\n",
    "label = ['Outcome']\n",
    "X = data[features]\n",
    "y = data[label]"
   ]
  },
  {
   "cell_type": "code",
   "execution_count": 9,
   "metadata": {
    "colab": {
     "base_uri": "https://localhost:8080/"
    },
    "id": "yW1VIQYu7CpM",
    "outputId": "163aa0ef-52e5-4cf0-dff0-76fdf5e6aa19"
   },
   "outputs": [
    {
     "name": "stdout",
     "output_type": "stream",
     "text": [
      "     Outcome\n",
      "0          1\n",
      "1          0\n",
      "2          1\n",
      "3          0\n",
      "4          1\n",
      "..       ...\n",
      "763        0\n",
      "764        0\n",
      "765        0\n",
      "766        1\n",
      "767        0\n",
      "\n",
      "[768 rows x 1 columns]\n"
     ]
    }
   ],
   "source": [
    "print (y)"
   ]
  },
  {
   "cell_type": "code",
   "execution_count": 10,
   "metadata": {
    "colab": {
     "base_uri": "https://localhost:8080/"
    },
    "id": "zkKjUeFbgwct",
    "outputId": "bb7127ad-1942-4fda-b5d9-688073748c7f"
   },
   "outputs": [
    {
     "name": "stdout",
     "output_type": "stream",
     "text": [
      "CPU times: user 156 ms, sys: 2.65 ms, total: 159 ms\n",
      "Wall time: 160 ms\n",
      "CPU times: user 16.1 ms, sys: 661 µs, total: 16.8 ms\n",
      "Wall time: 16.5 ms\n",
      "Base Accuracy: 0.7489177489177489\n",
      "Base classification report:               precision    recall  f1-score   support\n",
      "\n",
      "           0       0.80      0.81      0.81       151\n",
      "           1       0.64      0.62      0.63        80\n",
      "\n",
      "    accuracy                           0.75       231\n",
      "   macro avg       0.72      0.72      0.72       231\n",
      "weighted avg       0.75      0.75      0.75       231\n",
      "\n"
     ]
    },
    {
     "name": "stderr",
     "output_type": "stream",
     "text": [
      "/Users/susman/opt/anaconda3/envs/GANs/lib/python3.7/site-packages/ipykernel_launcher.py:1: DataConversionWarning: A column-vector y was passed when a 1d array was expected. Please change the shape of y to (n_samples,), for example using ravel().\n",
      "  \"\"\"Entry point for launching an IPython kernel.\n"
     ]
    }
   ],
   "source": [
    "from sklearn.model_selection import train_test_split\n",
    "from sklearn.ensemble import RandomForestClassifier\n",
    "from sklearn import metrics\n",
    "\n",
    "X_true_train, X_true_test, y_true_train, y_true_test = train_test_split(X, y, test_size=0.30, random_state=42)\n",
    "clf_true = RandomForestClassifier(n_estimators=100)\n",
    "%time clf_true.fit(X_true_train,y_true_train)\n",
    "\n",
    "\n",
    "%time y_true_pred=clf_true.predict(X_true_test)\n",
    "print(\"Base Accuracy:\",metrics.accuracy_score(y_true_test, y_true_pred))\n",
    "print(\"Base classification report:\",metrics.classification_report(y_true_test, y_true_pred))"
   ]
  },
  {
   "cell_type": "code",
   "execution_count": 11,
   "metadata": {
    "colab": {
     "base_uri": "https://localhost:8080/"
    },
    "id": "sn8-DHEAgwgF",
    "outputId": "45bffcc5-81a3-4d93-cc6c-177200018432"
   },
   "outputs": [
    {
     "data": {
      "text/plain": [
       "(768, 8)"
      ]
     },
     "execution_count": 11,
     "metadata": {},
     "output_type": "execute_result"
    }
   ],
   "source": [
    "X.shape"
   ]
  },
  {
   "cell_type": "code",
   "execution_count": 12,
   "metadata": {
    "colab": {
     "base_uri": "https://localhost:8080/"
    },
    "id": "ibUmKvKK5hqM",
    "outputId": "b1f6a9b0-1b42-47eb-af7d-14c5daac83ca"
   },
   "outputs": [
    {
     "data": {
      "text/plain": [
       "(768, 9)"
      ]
     },
     "execution_count": 12,
     "metadata": {},
     "output_type": "execute_result"
    }
   ],
   "source": [
    "data.shape"
   ]
  },
  {
   "cell_type": "code",
   "execution_count": 13,
   "metadata": {
    "colab": {
     "base_uri": "https://localhost:8080/"
    },
    "id": "NN4Tlzmq7I7m",
    "outputId": "2bc3b1c0-d000-4009-a229-6146fb51b542"
   },
   "outputs": [
    {
     "name": "stdout",
     "output_type": "stream",
     "text": [
      "     Outcome\n",
      "668        0\n",
      "324        0\n",
      "624        0\n",
      "690        0\n",
      "473        0\n",
      "..       ...\n",
      "619        1\n",
      "198        1\n",
      "538        0\n",
      "329        0\n",
      "302        0\n",
      "\n",
      "[231 rows x 1 columns]\n"
     ]
    }
   ],
   "source": [
    "print (y_true_test)"
   ]
  },
  {
   "cell_type": "markdown",
   "metadata": {},
   "source": [
    "## Generate Synthetic Data"
   ]
  },
  {
   "cell_type": "code",
   "execution_count": 14,
   "metadata": {
    "id": "L-xHOENQgwjZ"
   },
   "outputs": [],
   "source": [
    "# generate points in latent space as input for the generator\n",
    "def generate_latent_points(latent_dim, n_samples):\n",
    "    \n",
    "    # generate points in the latent space\n",
    "    x_input = randn(latent_dim * n_samples)\n",
    "    \n",
    "    # reshape into a batch of inputs for the network\n",
    "    x_input = x_input.reshape(n_samples, latent_dim)\n",
    "    \n",
    "    return x_input"
   ]
  },
  {
   "cell_type": "markdown",
   "metadata": {
    "id": "7vsLQLMt0YB6"
   },
   "source": []
  },
  {
   "cell_type": "code",
   "execution_count": 15,
   "metadata": {
    "id": "pFjA5w7Jgwmm"
   },
   "outputs": [],
   "source": [
    "# generate_fake_samples function to produce fake data\n",
    "# use the generator to generate n fake examples, with class labels\n",
    "def generate_fake_samples(generator, latent_dim, n_samples):\n",
    "    \n",
    "    # generate points in latent space\n",
    "    x_input = generate_latent_points(latent_dim, n_samples)\n",
    "    \n",
    "    # predict outputs\n",
    "    X = generator.predict(x_input)\n",
    "    \n",
    "    # create class labels\n",
    "    y = np.zeros((n_samples, 1))\n",
    "    return X, y"
   ]
  },
  {
   "cell_type": "code",
   "execution_count": 16,
   "metadata": {
    "id": "tg23vbGagwpc"
   },
   "outputs": [],
   "source": [
    "# generate n real samples with class labels\n",
    "def generate_real_samples(n):\n",
    "    \n",
    "  X = data.sample(n)\n",
    "\n",
    "  #generate class labels\n",
    "  y = np.ones((n, 1))\n",
    "\n",
    "  return X, y"
   ]
  },
  {
   "cell_type": "code",
   "execution_count": 17,
   "metadata": {
    "id": "0i3uCt9egwsn"
   },
   "outputs": [],
   "source": [
    "# define the standalone generator model\n",
    "def define_generator(latent_dim, n_outputs=9):\n",
    "\n",
    "  model = Sequential()\n",
    "  model.add(Dense(15, activation='relu', kernel_initializer='he_uniform', input_dim=latent_dim))\n",
    "\n",
    "  model.add(Dense(30, activation='relu'))\n",
    "  # model.add(Dense(n_outputs, activation='sigmoid'))\n",
    "    \n",
    "  model.add(Dense(n_outputs, activation='linear'))\n",
    "  return model"
   ]
  },
  {
   "cell_type": "code",
   "execution_count": 18,
   "metadata": {
    "colab": {
     "base_uri": "https://localhost:8080/"
    },
    "id": "nuOY8LlK0Sh1",
    "outputId": "9ef413d5-3da6-4220-8d58-57d0d8f1ece4"
   },
   "outputs": [
    {
     "name": "stdout",
     "output_type": "stream",
     "text": [
      "Model: \"sequential\"\n",
      "_________________________________________________________________\n",
      " Layer (type)                Output Shape              Param #   \n",
      "=================================================================\n",
      " dense (Dense)               (None, 15)                165       \n",
      "                                                                 \n",
      " dense_1 (Dense)             (None, 30)                480       \n",
      "                                                                 \n",
      " dense_2 (Dense)             (None, 9)                 279       \n",
      "                                                                 \n",
      "=================================================================\n",
      "Total params: 924\n",
      "Trainable params: 924\n",
      "Non-trainable params: 0\n",
      "_________________________________________________________________\n"
     ]
    },
    {
     "name": "stderr",
     "output_type": "stream",
     "text": [
      "2022-05-01 15:10:44.822808: I tensorflow/core/platform/cpu_feature_guard.cc:151] This TensorFlow binary is optimized with oneAPI Deep Neural Network Library (oneDNN) to use the following CPU instructions in performance-critical operations:  AVX2 FMA\n",
      "To enable them in other operations, rebuild TensorFlow with the appropriate compiler flags.\n"
     ]
    }
   ],
   "source": [
    "generator1 = define_generator(10, 9)\n",
    "generator1.summary()"
   ]
  },
  {
   "cell_type": "code",
   "execution_count": 19,
   "metadata": {
    "id": "5GWcRCAMgwvX"
   },
   "outputs": [],
   "source": [
    "# define the standalone discriminator model\n",
    "def define_discriminator(n_inputs=9):\n",
    "    \n",
    "    model = Sequential()\n",
    "    model.add(Dense(25, activation='relu', kernel_initializer='he_uniform', input_dim=n_inputs))\n",
    "    model.add(Dense(50, activation='relu'))\n",
    "    model.add(Dense(1, activation='sigmoid'))\n",
    "    # compile model\n",
    "    model.compile(loss='binary_crossentropy', optimizer='adam', metrics=['accuracy'])\n",
    "    return model"
   ]
  },
  {
   "cell_type": "code",
   "execution_count": 20,
   "metadata": {
    "colab": {
     "base_uri": "https://localhost:8080/"
    },
    "id": "KTHwpxp50Hzl",
    "outputId": "b1b1d373-2ddc-419f-aeaf-9b6b0f503033"
   },
   "outputs": [
    {
     "name": "stdout",
     "output_type": "stream",
     "text": [
      "Model: \"sequential_1\"\n",
      "_________________________________________________________________\n",
      " Layer (type)                Output Shape              Param #   \n",
      "=================================================================\n",
      " dense_3 (Dense)             (None, 25)                250       \n",
      "                                                                 \n",
      " dense_4 (Dense)             (None, 50)                1300      \n",
      "                                                                 \n",
      " dense_5 (Dense)             (None, 1)                 51        \n",
      "                                                                 \n",
      "=================================================================\n",
      "Total params: 1,601\n",
      "Trainable params: 1,601\n",
      "Non-trainable params: 0\n",
      "_________________________________________________________________\n"
     ]
    }
   ],
   "source": [
    "discriminator1 = define_discriminator(9)\n",
    "discriminator1.summary()"
   ]
  },
  {
   "cell_type": "code",
   "execution_count": 21,
   "metadata": {
    "id": "dk3YXPjjgwxw"
   },
   "outputs": [],
   "source": [
    "# define the combined generator and discriminator model, for updating the generator\n",
    "\n",
    "def define_gan(generator, discriminator):\n",
    "    \n",
    "    # make weights in the discriminator not trainable\n",
    "    discriminator.trainable = False\n",
    "    # connect them\n",
    "    model = Sequential()\n",
    "    # add generator\n",
    "    model.add(generator)\n",
    "    # add the discriminator\n",
    "    model.add(discriminator)\n",
    "    # compile model\n",
    "    model.compile(loss='binary_crossentropy', optimizer='adam')\n",
    "    \n",
    "    return model"
   ]
  },
  {
   "cell_type": "code",
   "execution_count": 22,
   "metadata": {
    "id": "-VsdTILFSgPq"
   },
   "outputs": [],
   "source": [
    "# create a line plot of loss for the gan and save to file\n",
    "def plot_history(d_hist, g_hist):\n",
    "    \n",
    "    # plot loss\n",
    "    plt.subplot(1, 1, 1)\n",
    "    plt.plot(d_hist, label='d')\n",
    "    plt.plot(g_hist, label='gen')\n",
    "    \n",
    "    plt.show()\n",
    "    plt.close()"
   ]
  },
  {
   "cell_type": "code",
   "execution_count": 23,
   "metadata": {
    "id": "ipM2mXC_zAbP"
   },
   "outputs": [],
   "source": [
    "# train the generator and discriminator\n",
    "\n",
    "def train(g_model, d_model, gan_model, latent_dim, n_epochs=1000, n_batch=128):\n",
    "    \n",
    "    # determine half the size of one batch, for updating the discriminator\n",
    "    half_batch = int(n_batch / 2)\n",
    "    \n",
    "    d_history = []\n",
    "    g_history = []\n",
    "    \n",
    "    # manually enumerate epochs\n",
    "    for epoch in range(n_epochs):\n",
    "        \n",
    "        # prepare real samples\n",
    "        x_real, y_real = generate_real_samples(half_batch)\n",
    "        # prepare fake examples\n",
    "        x_fake, y_fake = generate_fake_samples(g_model, latent_dim, half_batch)\n",
    "        # update discriminator\n",
    "        d_loss_real, d_real_acc = d_model.train_on_batch(x_real, y_real)\n",
    "        d_loss_fake, d_fake_acc = d_model.train_on_batch(x_fake, y_fake)\n",
    "        d_loss = 0.5 * np.add(d_loss_real, d_loss_fake)\n",
    "    \n",
    "        # prepare points in latent space as input for the generator\n",
    "        x_gan = generate_latent_points(latent_dim, n_batch)\n",
    "    \n",
    "        # create inverted labels for the fake samples\n",
    "        y_gan = np.ones((n_batch, 1))\n",
    "    \n",
    "        # update the generator via the discriminator's error\n",
    "        g_loss_fake = gan_model.train_on_batch(x_gan, y_gan)\n",
    "\n",
    "        print('>%d, d1=%.3f, d2=%.3f d=%.3f g=%.3f' % (epoch+1, d_loss_real, d_loss_fake, d_loss,  g_loss_fake))\n",
    "        d_history.append(d_loss)\n",
    "        g_history.append(g_loss_fake)\n",
    "        \n",
    "    plot_history(d_history, g_history)\n",
    "        \n",
    "        # save model\n",
    "    g_model.save('trained_generated_model_20210205_v3.h5')"
   ]
  },
  {
   "cell_type": "code",
   "execution_count": 24,
   "metadata": {
    "id": "KOWR25YAzDPd"
   },
   "outputs": [],
   "source": [
    "# evaluate the discriminator and plot real and fake points\n",
    "def summarize_performance(epoch, generator, discriminator, latent_dim, n=100):\n",
    "    \n",
    "    # prepare real samples\n",
    "    x_real, y_real = generate_real_samples(n)\n",
    "    \n",
    "    # evaluate discriminator on real examples\n",
    "    _, acc_real = discriminator.evaluate(x_real, y_real, verbose=0)\n",
    "    # prepare fake examples\n",
    "    x_fake, y_fake = generate_fake_samples(generator, latent_dim, n)\n",
    "    # evaluate discriminator on fake examples\n",
    "    _, acc_fake = discriminator.evaluate(x_fake, y_fake, verbose=0)\n",
    "    # summarize discriminator performance\n",
    "    print(epoch, acc_real, acc_fake)\n",
    "    \n",
    "    # scatter plot real and fake data points\n",
    "    pyplot.scatter(x_real[:, 0], color='red')\n",
    "    pyplot.scatter(x_fake[:, 0], color='blue')\n",
    "    pyplot.show()"
   ]
  },
  {
   "cell_type": "code",
   "execution_count": 25,
   "metadata": {
    "colab": {
     "base_uri": "https://localhost:8080/",
     "height": 1000
    },
    "id": "pKZL1t6uzFjv",
    "outputId": "c6e0608d-e3f2-4b0f-c81e-2dd380724bdd"
   },
   "outputs": [
    {
     "name": "stdout",
     "output_type": "stream",
     "text": [
      ">1, d1=0.000, d2=0.793 d=0.396 g=0.640\n",
      ">2, d1=0.000, d2=0.794 d=0.397 g=0.658\n",
      ">3, d1=0.000, d2=0.703 d=0.352 g=0.699\n",
      ">4, d1=0.000, d2=0.664 d=0.332 g=0.747\n",
      ">5, d1=0.000, d2=0.653 d=0.326 g=0.762\n",
      ">6, d1=0.000, d2=0.616 d=0.308 g=0.794\n",
      ">7, d1=0.118, d2=0.600 d=0.359 g=0.844\n",
      ">8, d1=0.001, d2=0.554 d=0.278 g=0.875\n",
      ">9, d1=0.000, d2=0.534 d=0.267 g=0.918\n",
      ">10, d1=0.000, d2=0.519 d=0.259 g=0.931\n",
      ">11, d1=0.000, d2=0.500 d=0.250 g=0.971\n",
      ">12, d1=0.000, d2=0.472 d=0.236 g=1.020\n",
      ">13, d1=0.081, d2=0.480 d=0.280 g=1.000\n",
      ">14, d1=0.291, d2=0.477 d=0.384 g=0.983\n",
      ">15, d1=0.152, d2=0.484 d=0.318 g=1.004\n",
      ">16, d1=0.000, d2=0.501 d=0.250 g=0.961\n",
      ">17, d1=0.000, d2=0.495 d=0.248 g=0.979\n",
      ">18, d1=0.000, d2=0.512 d=0.256 g=0.938\n",
      ">19, d1=0.000, d2=0.515 d=0.258 g=0.948\n",
      ">20, d1=0.000, d2=0.515 d=0.257 g=0.952\n",
      ">21, d1=0.000, d2=0.527 d=0.264 g=0.950\n",
      ">22, d1=0.063, d2=0.526 d=0.294 g=0.932\n",
      ">23, d1=0.000, d2=0.537 d=0.268 g=0.919\n",
      ">24, d1=0.000, d2=0.511 d=0.255 g=0.932\n",
      ">25, d1=0.000, d2=0.515 d=0.257 g=0.933\n",
      ">26, d1=0.000, d2=0.534 d=0.267 g=0.884\n",
      ">27, d1=0.000, d2=0.523 d=0.262 g=0.948\n",
      ">28, d1=0.001, d2=0.524 d=0.263 g=0.930\n",
      ">29, d1=0.000, d2=0.503 d=0.252 g=0.952\n",
      ">30, d1=0.000, d2=0.538 d=0.269 g=0.917\n",
      ">31, d1=0.000, d2=0.514 d=0.257 g=0.949\n",
      ">32, d1=0.000, d2=0.503 d=0.252 g=1.004\n",
      ">33, d1=0.024, d2=0.498 d=0.261 g=0.990\n",
      ">34, d1=0.000, d2=0.501 d=0.250 g=0.965\n",
      ">35, d1=0.164, d2=0.514 d=0.339 g=0.983\n",
      ">36, d1=0.059, d2=0.492 d=0.275 g=0.974\n",
      ">37, d1=0.000, d2=0.506 d=0.253 g=0.966\n",
      ">38, d1=0.001, d2=0.521 d=0.261 g=0.974\n",
      ">39, d1=0.000, d2=0.509 d=0.255 g=0.964\n",
      ">40, d1=0.005, d2=0.498 d=0.252 g=0.986\n",
      ">41, d1=0.035, d2=0.482 d=0.258 g=0.994\n",
      ">42, d1=0.001, d2=0.486 d=0.244 g=1.004\n",
      ">43, d1=0.008, d2=0.470 d=0.239 g=1.016\n",
      ">44, d1=0.054, d2=0.474 d=0.264 g=0.953\n",
      ">45, d1=0.000, d2=0.468 d=0.234 g=0.991\n",
      ">46, d1=0.023, d2=0.512 d=0.268 g=0.974\n",
      ">47, d1=0.030, d2=0.516 d=0.273 g=0.965\n",
      ">48, d1=0.021, d2=0.522 d=0.271 g=0.934\n",
      ">49, d1=0.000, d2=0.535 d=0.267 g=0.911\n",
      ">50, d1=0.000, d2=0.547 d=0.274 g=0.926\n",
      ">51, d1=0.000, d2=0.513 d=0.256 g=0.910\n",
      ">52, d1=0.000, d2=0.513 d=0.257 g=0.941\n",
      ">53, d1=0.042, d2=0.524 d=0.283 g=0.917\n",
      ">54, d1=0.000, d2=0.515 d=0.258 g=0.962\n",
      ">55, d1=0.000, d2=0.507 d=0.254 g=0.983\n",
      ">56, d1=0.001, d2=0.495 d=0.248 g=0.990\n",
      ">57, d1=0.001, d2=0.465 d=0.233 g=1.002\n",
      ">58, d1=0.042, d2=0.455 d=0.248 g=1.033\n",
      ">59, d1=0.292, d2=0.456 d=0.374 g=1.025\n",
      ">60, d1=0.012, d2=0.461 d=0.236 g=1.020\n",
      ">61, d1=0.201, d2=0.479 d=0.340 g=0.963\n",
      ">62, d1=0.048, d2=0.475 d=0.262 g=0.953\n",
      ">63, d1=0.138, d2=0.519 d=0.328 g=0.937\n",
      ">64, d1=0.108, d2=0.514 d=0.311 g=0.915\n",
      ">65, d1=0.000, d2=0.518 d=0.259 g=0.912\n",
      ">66, d1=0.000, d2=0.511 d=0.256 g=0.921\n",
      ">67, d1=0.000, d2=0.506 d=0.253 g=0.943\n",
      ">68, d1=0.000, d2=0.512 d=0.256 g=0.964\n",
      ">69, d1=0.000, d2=0.480 d=0.240 g=0.984\n",
      ">70, d1=0.000, d2=0.466 d=0.233 g=1.028\n",
      ">71, d1=0.001, d2=0.431 d=0.216 g=1.081\n",
      ">72, d1=0.005, d2=0.416 d=0.210 g=1.116\n",
      ">73, d1=0.065, d2=0.411 d=0.238 g=1.085\n",
      ">74, d1=0.006, d2=0.414 d=0.210 g=1.079\n",
      ">75, d1=0.000, d2=0.423 d=0.212 g=1.077\n",
      ">76, d1=0.000, d2=0.418 d=0.209 g=1.093\n",
      ">77, d1=0.000, d2=0.402 d=0.201 g=1.094\n",
      ">78, d1=0.000, d2=0.405 d=0.203 g=1.125\n",
      ">79, d1=0.001, d2=0.398 d=0.200 g=1.159\n",
      ">80, d1=0.069, d2=0.384 d=0.227 g=1.142\n",
      ">81, d1=0.003, d2=0.390 d=0.196 g=1.127\n",
      ">82, d1=0.095, d2=0.392 d=0.244 g=1.113\n",
      ">83, d1=0.000, d2=0.398 d=0.199 g=1.137\n",
      ">84, d1=0.000, d2=0.385 d=0.192 g=1.164\n",
      ">85, d1=0.000, d2=0.378 d=0.189 g=1.195\n",
      ">86, d1=0.001, d2=0.360 d=0.181 g=1.194\n",
      ">87, d1=0.010, d2=0.356 d=0.183 g=1.231\n",
      ">88, d1=0.007, d2=0.352 d=0.179 g=1.241\n",
      ">89, d1=0.066, d2=0.361 d=0.213 g=1.202\n",
      ">90, d1=0.109, d2=0.368 d=0.239 g=1.168\n",
      ">91, d1=0.001, d2=0.387 d=0.194 g=1.133\n",
      ">92, d1=0.000, d2=0.412 d=0.206 g=1.119\n",
      ">93, d1=0.000, d2=0.389 d=0.195 g=1.109\n",
      ">94, d1=0.000, d2=0.414 d=0.207 g=1.121\n",
      ">95, d1=0.002, d2=0.398 d=0.200 g=1.139\n",
      ">96, d1=0.000, d2=0.395 d=0.197 g=1.138\n",
      ">97, d1=0.002, d2=0.382 d=0.192 g=1.190\n",
      ">98, d1=0.005, d2=0.362 d=0.183 g=1.216\n",
      ">99, d1=0.051, d2=0.365 d=0.208 g=1.227\n",
      ">100, d1=0.051, d2=0.362 d=0.206 g=1.183\n",
      ">101, d1=0.017, d2=0.376 d=0.197 g=1.172\n",
      ">102, d1=0.002, d2=0.396 d=0.199 g=1.114\n",
      ">103, d1=0.001, d2=0.402 d=0.202 g=1.146\n",
      ">104, d1=0.001, d2=0.401 d=0.201 g=1.150\n",
      ">105, d1=0.005, d2=0.390 d=0.197 g=1.178\n",
      ">106, d1=0.002, d2=0.381 d=0.191 g=1.183\n",
      ">107, d1=0.008, d2=0.357 d=0.183 g=1.225\n",
      ">108, d1=0.070, d2=0.374 d=0.222 g=1.213\n",
      ">109, d1=0.005, d2=0.374 d=0.190 g=1.197\n",
      ">110, d1=0.004, d2=0.360 d=0.182 g=1.227\n",
      ">111, d1=0.001, d2=0.345 d=0.173 g=1.249\n",
      ">112, d1=0.004, d2=0.342 d=0.173 g=1.290\n",
      ">113, d1=0.018, d2=0.337 d=0.178 g=1.294\n",
      ">114, d1=0.010, d2=0.326 d=0.168 g=1.318\n",
      ">115, d1=0.003, d2=0.309 d=0.156 g=1.348\n",
      ">116, d1=0.013, d2=0.299 d=0.156 g=1.368\n",
      ">117, d1=0.024, d2=0.310 d=0.167 g=1.362\n",
      ">118, d1=0.007, d2=0.294 d=0.150 g=1.368\n",
      ">119, d1=0.002, d2=0.290 d=0.146 g=1.397\n",
      ">120, d1=0.002, d2=0.277 d=0.140 g=1.459\n",
      ">121, d1=0.001, d2=0.257 d=0.129 g=1.517\n",
      ">122, d1=0.010, d2=0.244 d=0.127 g=1.562\n",
      ">123, d1=0.029, d2=0.239 d=0.134 g=1.566\n",
      ">124, d1=0.006, d2=0.236 d=0.121 g=1.580\n",
      ">125, d1=0.013, d2=0.232 d=0.123 g=1.580\n",
      ">126, d1=0.007, d2=0.227 d=0.117 g=1.598\n",
      ">127, d1=0.095, d2=0.233 d=0.164 g=1.574\n",
      ">128, d1=0.001, d2=0.236 d=0.119 g=1.564\n",
      ">129, d1=0.000, d2=0.237 d=0.119 g=1.578\n",
      ">130, d1=0.031, d2=0.235 d=0.133 g=1.609\n",
      ">131, d1=0.000, d2=0.222 d=0.111 g=1.648\n",
      ">132, d1=0.000, d2=0.206 d=0.103 g=1.710\n",
      ">133, d1=0.025, d2=0.190 d=0.108 g=1.772\n",
      ">134, d1=0.001, d2=0.180 d=0.090 g=1.835\n",
      ">135, d1=0.008, d2=0.171 d=0.089 g=1.919\n",
      ">136, d1=0.099, d2=0.166 d=0.133 g=1.907\n",
      ">137, d1=0.001, d2=0.166 d=0.084 g=1.902\n",
      ">138, d1=0.006, d2=0.162 d=0.084 g=1.902\n",
      ">139, d1=0.003, d2=0.166 d=0.085 g=1.904\n",
      ">140, d1=0.001, d2=0.159 d=0.080 g=1.934\n",
      ">141, d1=0.001, d2=0.157 d=0.079 g=1.965\n",
      ">142, d1=0.006, d2=0.154 d=0.080 g=2.022\n",
      ">143, d1=0.003, d2=0.152 d=0.077 g=2.018\n",
      ">144, d1=0.061, d2=0.152 d=0.107 g=1.920\n",
      ">145, d1=0.003, d2=0.166 d=0.084 g=1.870\n",
      ">146, d1=0.000, d2=0.178 d=0.089 g=1.798\n",
      ">147, d1=0.000, d2=0.185 d=0.093 g=1.797\n",
      ">148, d1=0.000, d2=0.186 d=0.093 g=1.790\n",
      ">149, d1=0.000, d2=0.187 d=0.094 g=1.824\n",
      ">150, d1=0.000, d2=0.180 d=0.090 g=1.837\n",
      ">151, d1=0.000, d2=0.173 d=0.087 g=1.897\n",
      ">152, d1=0.000, d2=0.172 d=0.086 g=1.931\n",
      ">153, d1=0.047, d2=0.164 d=0.105 g=1.896\n",
      ">154, d1=0.001, d2=0.168 d=0.084 g=1.906\n",
      ">155, d1=0.002, d2=0.168 d=0.085 g=1.916\n",
      ">156, d1=0.014, d2=0.174 d=0.094 g=1.884\n",
      ">157, d1=0.010, d2=0.175 d=0.092 g=1.845\n",
      ">158, d1=0.001, d2=0.172 d=0.087 g=1.852\n",
      ">159, d1=0.001, d2=0.179 d=0.090 g=1.864\n",
      ">160, d1=0.009, d2=0.187 d=0.098 g=1.831\n",
      ">161, d1=0.031, d2=0.200 d=0.115 g=1.783\n",
      ">162, d1=0.012, d2=0.183 d=0.098 g=1.727\n",
      ">163, d1=0.000, d2=0.221 d=0.110 g=1.755\n",
      ">164, d1=0.000, d2=0.270 d=0.135 g=1.718\n",
      ">165, d1=0.015, d2=0.199 d=0.107 g=1.735\n",
      ">166, d1=0.071, d2=0.208 d=0.140 g=1.682\n",
      ">167, d1=0.000, d2=0.281 d=0.141 g=1.686\n",
      ">168, d1=0.006, d2=0.215 d=0.110 g=1.737\n",
      ">169, d1=0.000, d2=0.259 d=0.130 g=1.758\n",
      ">170, d1=0.038, d2=0.200 d=0.119 g=1.831\n",
      ">171, d1=0.010, d2=0.178 d=0.094 g=1.882\n",
      ">172, d1=0.020, d2=0.177 d=0.098 g=1.904\n",
      ">173, d1=0.015, d2=0.177 d=0.096 g=1.815\n",
      ">174, d1=0.053, d2=0.199 d=0.126 g=1.912\n",
      ">175, d1=0.000, d2=0.195 d=0.098 g=1.915\n",
      ">176, d1=0.001, d2=0.165 d=0.083 g=2.012\n",
      ">177, d1=0.002, d2=0.152 d=0.077 g=2.129\n",
      ">178, d1=0.008, d2=0.142 d=0.075 g=2.187\n",
      ">179, d1=0.006, d2=0.123 d=0.064 g=2.312\n",
      ">180, d1=0.023, d2=0.110 d=0.067 g=2.301\n",
      ">181, d1=0.007, d2=0.108 d=0.057 g=2.276\n",
      ">182, d1=0.001, d2=0.115 d=0.058 g=2.309\n",
      ">183, d1=0.010, d2=0.114 d=0.062 g=2.232\n",
      ">184, d1=0.000, d2=0.118 d=0.059 g=2.278\n",
      ">185, d1=0.000, d2=0.116 d=0.058 g=2.311\n",
      ">186, d1=0.000, d2=0.107 d=0.054 g=2.394\n",
      ">187, d1=0.000, d2=0.102 d=0.051 g=2.462\n",
      ">188, d1=0.002, d2=0.086 d=0.044 g=2.622\n",
      ">189, d1=0.013, d2=0.077 d=0.045 g=2.664\n",
      ">190, d1=0.095, d2=0.073 d=0.084 g=2.642\n",
      ">191, d1=0.001, d2=0.073 d=0.037 g=2.724\n",
      ">192, d1=0.001, d2=0.071 d=0.036 g=2.761\n",
      ">193, d1=0.001, d2=0.065 d=0.033 g=2.854\n",
      ">194, d1=0.003, d2=0.059 d=0.031 g=2.912\n",
      ">195, d1=0.070, d2=0.059 d=0.065 g=2.884\n",
      ">196, d1=0.001, d2=0.058 d=0.029 g=2.924\n",
      ">197, d1=0.001, d2=0.059 d=0.030 g=2.939\n",
      ">198, d1=0.001, d2=0.060 d=0.031 g=3.021\n",
      ">199, d1=0.003, d2=0.054 d=0.029 g=3.053\n",
      ">200, d1=0.002, d2=0.055 d=0.028 g=2.952\n",
      ">201, d1=0.003, d2=0.058 d=0.030 g=2.946\n",
      ">202, d1=0.091, d2=0.061 d=0.076 g=2.785\n",
      ">203, d1=0.011, d2=0.081 d=0.046 g=2.611\n",
      ">204, d1=0.025, d2=0.111 d=0.068 g=2.174\n",
      ">205, d1=0.000, d2=0.165 d=0.082 g=1.836\n",
      ">206, d1=0.000, d2=0.183 d=0.091 g=1.724\n",
      ">207, d1=0.000, d2=0.264 d=0.132 g=1.752\n",
      ">208, d1=0.000, d2=0.280 d=0.140 g=1.761\n",
      ">209, d1=0.000, d2=0.212 d=0.106 g=1.813\n",
      ">210, d1=0.000, d2=0.199 d=0.100 g=2.088\n",
      ">211, d1=0.000, d2=0.132 d=0.066 g=2.290\n",
      ">212, d1=0.000, d2=0.109 d=0.055 g=2.528\n",
      ">213, d1=0.004, d2=0.079 d=0.042 g=2.746\n",
      ">214, d1=0.158, d2=0.087 d=0.122 g=2.241\n",
      ">215, d1=0.000, d2=0.149 d=0.075 g=1.988\n",
      ">216, d1=0.000, d2=0.178 d=0.089 g=1.856\n",
      ">217, d1=0.000, d2=0.230 d=0.115 g=1.768\n",
      ">218, d1=0.000, d2=0.213 d=0.107 g=1.832\n",
      ">219, d1=0.000, d2=0.243 d=0.121 g=1.842\n",
      ">220, d1=0.000, d2=0.199 d=0.099 g=2.018\n",
      ">221, d1=0.000, d2=0.149 d=0.075 g=2.189\n",
      ">222, d1=0.000, d2=0.120 d=0.060 g=2.446\n",
      ">223, d1=0.000, d2=0.094 d=0.047 g=2.617\n",
      ">224, d1=0.081, d2=0.090 d=0.085 g=2.573\n",
      ">225, d1=0.003, d2=0.076 d=0.040 g=2.623\n",
      ">226, d1=0.001, d2=0.084 d=0.043 g=2.662\n",
      ">227, d1=0.002, d2=0.088 d=0.045 g=2.653\n",
      ">228, d1=0.004, d2=0.076 d=0.040 g=2.641\n",
      ">229, d1=0.006, d2=0.083 d=0.044 g=2.650\n",
      ">230, d1=0.042, d2=0.100 d=0.071 g=2.490\n",
      ">231, d1=0.000, d2=0.105 d=0.053 g=2.364\n",
      ">232, d1=0.000, d2=0.117 d=0.058 g=2.395\n",
      ">233, d1=0.000, d2=0.123 d=0.062 g=2.389\n",
      ">234, d1=0.000, d2=0.104 d=0.052 g=2.473\n",
      ">235, d1=0.000, d2=0.096 d=0.048 g=2.543\n",
      ">236, d1=0.000, d2=0.079 d=0.039 g=2.666\n",
      ">237, d1=0.003, d2=0.085 d=0.044 g=2.747\n",
      ">238, d1=0.020, d2=0.067 d=0.043 g=2.755\n",
      ">239, d1=0.030, d2=0.069 d=0.050 g=2.663\n",
      ">240, d1=0.001, d2=0.088 d=0.044 g=2.610\n",
      ">241, d1=0.000, d2=0.085 d=0.043 g=2.565\n",
      ">242, d1=0.000, d2=0.079 d=0.040 g=2.579\n",
      ">243, d1=0.001, d2=0.084 d=0.043 g=2.635\n",
      ">244, d1=0.001, d2=0.077 d=0.039 g=2.677\n",
      ">245, d1=0.059, d2=0.080 d=0.070 g=2.610\n",
      ">246, d1=0.021, d2=0.100 d=0.060 g=2.484\n",
      ">247, d1=0.002, d2=0.108 d=0.055 g=2.425\n",
      ">248, d1=0.000, d2=0.119 d=0.059 g=2.443\n",
      ">249, d1=0.000, d2=0.101 d=0.050 g=2.494\n",
      ">250, d1=0.001, d2=0.084 d=0.043 g=2.587\n",
      ">251, d1=0.009, d2=0.083 d=0.046 g=2.612\n",
      ">252, d1=0.018, d2=0.092 d=0.055 g=2.567\n",
      ">253, d1=0.001, d2=0.104 d=0.052 g=2.605\n",
      ">254, d1=0.001, d2=0.097 d=0.049 g=2.625\n",
      ">255, d1=0.003, d2=0.094 d=0.048 g=2.641\n",
      ">256, d1=0.052, d2=0.095 d=0.074 g=2.530\n",
      ">257, d1=0.008, d2=0.101 d=0.055 g=2.490\n",
      ">258, d1=0.002, d2=0.097 d=0.050 g=2.334\n",
      ">259, d1=0.001, d2=0.118 d=0.059 g=2.335\n",
      ">260, d1=0.002, d2=0.105 d=0.053 g=2.492\n",
      ">261, d1=0.010, d2=0.091 d=0.051 g=2.510\n",
      ">262, d1=0.015, d2=0.104 d=0.060 g=2.523\n",
      ">263, d1=0.005, d2=0.104 d=0.054 g=2.476\n",
      ">264, d1=0.007, d2=0.084 d=0.046 g=2.518\n",
      ">265, d1=0.005, d2=0.095 d=0.050 g=2.544\n",
      ">266, d1=0.007, d2=0.106 d=0.057 g=2.560\n",
      ">267, d1=0.013, d2=0.109 d=0.061 g=2.550\n",
      ">268, d1=0.004, d2=0.090 d=0.047 g=2.580\n",
      ">269, d1=0.001, d2=0.088 d=0.045 g=2.644\n",
      ">270, d1=0.006, d2=0.084 d=0.045 g=2.669\n",
      ">271, d1=0.033, d2=0.101 d=0.067 g=2.576\n",
      ">272, d1=0.001, d2=0.100 d=0.050 g=2.520\n",
      ">273, d1=0.000, d2=0.108 d=0.054 g=2.675\n",
      ">274, d1=0.003, d2=0.095 d=0.049 g=2.666\n",
      ">275, d1=0.001, d2=0.092 d=0.047 g=2.834\n",
      ">276, d1=0.013, d2=0.088 d=0.050 g=2.831\n",
      ">277, d1=0.043, d2=0.090 d=0.066 g=2.572\n",
      ">278, d1=0.001, d2=0.112 d=0.057 g=2.469\n",
      ">279, d1=0.001, d2=0.122 d=0.062 g=2.373\n",
      ">280, d1=0.000, d2=0.119 d=0.060 g=2.472\n",
      ">281, d1=0.000, d2=0.088 d=0.044 g=2.723\n",
      ">282, d1=0.011, d2=0.092 d=0.052 g=2.805\n",
      ">283, d1=0.005, d2=0.068 d=0.036 g=2.866\n",
      ">284, d1=0.160, d2=0.086 d=0.123 g=2.557\n",
      ">285, d1=0.000, d2=0.145 d=0.073 g=2.396\n",
      ">286, d1=0.000, d2=0.164 d=0.082 g=2.337\n",
      ">287, d1=0.000, d2=0.148 d=0.074 g=2.319\n",
      ">288, d1=0.000, d2=0.134 d=0.067 g=2.518\n",
      ">289, d1=0.000, d2=0.096 d=0.048 g=2.784\n",
      ">290, d1=0.014, d2=0.074 d=0.044 g=2.927\n",
      ">291, d1=0.031, d2=0.057 d=0.044 g=2.956\n",
      ">292, d1=0.010, d2=0.069 d=0.040 g=2.813\n",
      ">293, d1=0.002, d2=0.059 d=0.030 g=2.874\n",
      ">294, d1=0.007, d2=0.076 d=0.042 g=2.868\n",
      ">295, d1=0.093, d2=0.075 d=0.084 g=2.722\n",
      ">296, d1=0.027, d2=0.102 d=0.065 g=2.511\n",
      ">297, d1=0.000, d2=0.108 d=0.054 g=2.419\n",
      ">298, d1=0.000, d2=0.131 d=0.065 g=2.438\n",
      ">299, d1=0.000, d2=0.108 d=0.054 g=2.540\n",
      ">300, d1=0.000, d2=0.100 d=0.050 g=2.773\n",
      ">301, d1=0.000, d2=0.077 d=0.039 g=3.016\n",
      ">302, d1=0.001, d2=0.047 d=0.024 g=3.348\n",
      ">303, d1=0.133, d2=0.048 d=0.091 g=2.858\n",
      ">304, d1=0.000, d2=0.079 d=0.040 g=2.481\n",
      ">305, d1=0.000, d2=0.106 d=0.053 g=2.423\n",
      ">306, d1=0.000, d2=0.111 d=0.055 g=2.377\n",
      ">307, d1=0.000, d2=0.111 d=0.055 g=2.473\n",
      ">308, d1=0.000, d2=0.101 d=0.050 g=2.565\n",
      ">309, d1=0.000, d2=0.086 d=0.043 g=2.940\n",
      ">310, d1=0.000, d2=0.057 d=0.029 g=3.235\n",
      ">311, d1=0.018, d2=0.052 d=0.035 g=3.287\n",
      ">312, d1=0.001, d2=0.040 d=0.021 g=3.436\n",
      ">313, d1=0.043, d2=0.040 d=0.042 g=3.357\n",
      ">314, d1=0.000, d2=0.036 d=0.018 g=3.393\n",
      ">315, d1=0.001, d2=0.037 d=0.019 g=3.403\n",
      ">316, d1=0.000, d2=0.035 d=0.017 g=3.399\n",
      ">317, d1=0.005, d2=0.035 d=0.020 g=3.514\n",
      ">318, d1=0.007, d2=0.035 d=0.021 g=3.627\n",
      ">319, d1=0.037, d2=0.044 d=0.041 g=3.383\n",
      ">320, d1=0.001, d2=0.037 d=0.019 g=3.459\n",
      ">321, d1=0.000, d2=0.038 d=0.019 g=3.398\n",
      ">322, d1=0.000, d2=0.042 d=0.021 g=3.476\n",
      ">323, d1=0.000, d2=0.047 d=0.023 g=3.564\n",
      ">324, d1=0.017, d2=0.034 d=0.025 g=3.607\n",
      ">325, d1=0.001, d2=0.034 d=0.017 g=3.479\n",
      ">326, d1=0.000, d2=0.031 d=0.016 g=3.617\n",
      ">327, d1=0.001, d2=0.036 d=0.019 g=3.714\n",
      ">328, d1=0.005, d2=0.030 d=0.018 g=3.676\n",
      ">329, d1=0.007, d2=0.029 d=0.018 g=3.717\n",
      ">330, d1=0.044, d2=0.049 d=0.046 g=3.447\n",
      ">331, d1=0.004, d2=0.060 d=0.032 g=3.197\n",
      ">332, d1=0.002, d2=0.087 d=0.044 g=3.215\n",
      ">333, d1=0.000, d2=0.050 d=0.025 g=3.187\n",
      ">334, d1=0.005, d2=0.070 d=0.037 g=3.261\n",
      ">335, d1=0.001, d2=0.043 d=0.022 g=3.389\n",
      ">336, d1=0.012, d2=0.047 d=0.030 g=3.416\n",
      ">337, d1=0.016, d2=0.043 d=0.029 g=3.382\n",
      ">338, d1=0.010, d2=0.065 d=0.038 g=3.264\n",
      ">339, d1=0.030, d2=0.058 d=0.044 g=2.941\n",
      ">340, d1=0.000, d2=0.105 d=0.053 g=2.806\n",
      ">341, d1=0.001, d2=0.082 d=0.041 g=3.076\n",
      ">342, d1=0.001, d2=0.056 d=0.029 g=3.187\n",
      ">343, d1=0.010, d2=0.040 d=0.025 g=3.426\n",
      ">344, d1=0.033, d2=0.056 d=0.044 g=3.203\n",
      ">345, d1=0.002, d2=0.053 d=0.028 g=3.100\n",
      ">346, d1=0.001, d2=0.064 d=0.033 g=3.065\n",
      ">347, d1=0.007, d2=0.078 d=0.042 g=3.222\n",
      ">348, d1=0.039, d2=0.088 d=0.063 g=3.030\n",
      ">349, d1=0.001, d2=0.075 d=0.038 g=2.922\n",
      ">350, d1=0.003, d2=0.062 d=0.033 g=3.003\n",
      ">351, d1=0.025, d2=0.059 d=0.042 g=2.990\n",
      ">352, d1=0.003, d2=0.074 d=0.038 g=3.043\n",
      ">353, d1=0.012, d2=0.123 d=0.067 g=3.152\n",
      ">354, d1=0.042, d2=0.085 d=0.064 g=3.182\n",
      ">355, d1=0.124, d2=0.129 d=0.127 g=2.096\n",
      ">356, d1=0.000, d2=0.234 d=0.117 g=1.847\n",
      ">357, d1=0.000, d2=0.437 d=0.218 g=2.069\n",
      ">358, d1=0.000, d2=0.223 d=0.112 g=2.655\n",
      ">359, d1=0.183, d2=0.148 d=0.166 g=2.323\n",
      ">360, d1=0.002, d2=0.246 d=0.124 g=2.301\n",
      ">361, d1=0.000, d2=0.142 d=0.071 g=2.759\n",
      ">362, d1=0.001, d2=0.081 d=0.041 g=3.223\n",
      ">363, d1=0.038, d2=0.045 d=0.041 g=3.403\n",
      ">364, d1=0.433, d2=0.126 d=0.280 g=1.865\n",
      ">365, d1=0.000, d2=1.201 d=0.601 g=1.337\n",
      ">366, d1=0.000, d2=0.728 d=0.364 g=1.312\n",
      ">367, d1=0.000, d2=0.682 d=0.341 g=1.919\n",
      ">368, d1=0.000, d2=0.376 d=0.188 g=2.605\n",
      ">369, d1=0.000, d2=0.050 d=0.025 g=3.946\n",
      ">370, d1=0.318, d2=0.046 d=0.182 g=3.156\n",
      ">371, d1=0.000, d2=0.100 d=0.050 g=2.572\n",
      ">372, d1=0.000, d2=0.152 d=0.076 g=2.296\n",
      ">373, d1=0.000, d2=0.342 d=0.171 g=2.412\n",
      ">374, d1=0.000, d2=0.202 d=0.101 g=2.346\n",
      ">375, d1=0.001, d2=0.118 d=0.060 g=3.070\n",
      ">376, d1=0.003, d2=0.296 d=0.150 g=3.325\n",
      ">377, d1=0.201, d2=0.188 d=0.195 g=2.995\n",
      ">378, d1=0.022, d2=0.312 d=0.167 g=2.669\n",
      ">379, d1=0.000, d2=0.204 d=0.102 g=2.792\n",
      ">380, d1=0.000, d2=0.092 d=0.046 g=2.971\n",
      ">381, d1=0.000, d2=0.071 d=0.036 g=3.349\n",
      ">382, d1=0.000, d2=0.038 d=0.019 g=3.789\n",
      ">383, d1=0.000, d2=0.035 d=0.017 g=4.134\n",
      ">384, d1=0.033, d2=0.022 d=0.027 g=4.197\n",
      ">385, d1=0.023, d2=0.025 d=0.024 g=4.168\n",
      ">386, d1=0.011, d2=0.025 d=0.018 g=3.908\n",
      ">387, d1=0.038, d2=0.032 d=0.035 g=3.495\n",
      ">388, d1=0.005, d2=0.073 d=0.039 g=3.167\n",
      ">389, d1=0.000, d2=0.064 d=0.032 g=3.101\n",
      ">390, d1=0.000, d2=0.079 d=0.040 g=3.132\n",
      ">391, d1=0.000, d2=0.064 d=0.032 g=3.221\n",
      ">392, d1=0.005, d2=0.056 d=0.030 g=3.431\n",
      ">393, d1=0.013, d2=0.048 d=0.031 g=3.482\n",
      ">394, d1=0.066, d2=0.060 d=0.063 g=3.087\n",
      ">395, d1=0.039, d2=0.131 d=0.085 g=2.655\n",
      ">396, d1=0.001, d2=0.168 d=0.085 g=2.392\n",
      ">397, d1=0.000, d2=0.133 d=0.067 g=2.625\n",
      ">398, d1=0.004, d2=0.109 d=0.056 g=3.010\n",
      ">399, d1=0.018, d2=0.061 d=0.039 g=3.392\n",
      ">400, d1=0.300, d2=0.095 d=0.197 g=2.482\n",
      ">401, d1=0.000, d2=0.374 d=0.187 g=2.234\n",
      ">402, d1=0.000, d2=0.246 d=0.123 g=2.407\n",
      ">403, d1=0.000, d2=0.202 d=0.101 g=2.798\n",
      ">404, d1=0.002, d2=0.103 d=0.052 g=3.434\n",
      ">405, d1=0.076, d2=0.059 d=0.068 g=3.665\n",
      ">406, d1=0.209, d2=0.089 d=0.149 g=2.714\n",
      ">407, d1=0.001, d2=0.159 d=0.080 g=2.239\n",
      ">408, d1=0.000, d2=0.302 d=0.151 g=2.516\n",
      ">409, d1=0.000, d2=0.280 d=0.140 g=2.744\n",
      ">410, d1=0.009, d2=0.072 d=0.041 g=3.199\n",
      ">411, d1=0.024, d2=0.056 d=0.040 g=3.952\n",
      ">412, d1=0.194, d2=0.043 d=0.118 g=3.783\n",
      ">413, d1=0.032, d2=0.047 d=0.040 g=3.586\n",
      ">414, d1=0.003, d2=0.057 d=0.030 g=3.505\n",
      ">415, d1=0.003, d2=0.045 d=0.024 g=3.363\n",
      ">416, d1=0.001, d2=0.088 d=0.045 g=3.380\n",
      ">417, d1=0.016, d2=0.088 d=0.052 g=3.494\n",
      ">418, d1=0.019, d2=0.055 d=0.037 g=3.393\n",
      ">419, d1=0.063, d2=0.068 d=0.065 g=3.439\n",
      ">420, d1=0.001, d2=0.114 d=0.058 g=3.203\n",
      ">421, d1=0.005, d2=0.073 d=0.039 g=3.391\n",
      ">422, d1=0.006, d2=0.068 d=0.037 g=3.567\n",
      ">423, d1=0.003, d2=0.094 d=0.048 g=3.943\n",
      ">424, d1=0.082, d2=0.090 d=0.086 g=3.573\n",
      ">425, d1=0.012, d2=0.124 d=0.068 g=3.484\n",
      ">426, d1=0.019, d2=0.091 d=0.055 g=3.200\n",
      ">427, d1=0.031, d2=0.088 d=0.059 g=3.368\n",
      ">428, d1=0.009, d2=0.142 d=0.075 g=3.415\n",
      ">429, d1=0.011, d2=0.065 d=0.038 g=3.459\n",
      ">430, d1=0.014, d2=0.106 d=0.060 g=3.398\n",
      ">431, d1=0.059, d2=0.066 d=0.062 g=3.358\n",
      ">432, d1=0.082, d2=0.130 d=0.106 g=3.194\n",
      ">433, d1=0.003, d2=0.095 d=0.049 g=3.037\n",
      ">434, d1=0.012, d2=0.099 d=0.055 g=3.006\n",
      ">435, d1=0.021, d2=0.091 d=0.056 g=3.139\n",
      ">436, d1=0.007, d2=0.094 d=0.050 g=3.325\n",
      ">437, d1=0.065, d2=0.069 d=0.067 g=3.071\n",
      ">438, d1=0.061, d2=0.095 d=0.078 g=2.946\n",
      ">439, d1=0.001, d2=0.203 d=0.102 g=3.028\n",
      ">440, d1=0.010, d2=0.101 d=0.056 g=3.142\n",
      ">441, d1=0.008, d2=0.086 d=0.047 g=3.447\n",
      ">442, d1=0.041, d2=0.089 d=0.065 g=3.779\n",
      ">443, d1=0.071, d2=0.032 d=0.052 g=3.368\n",
      ">444, d1=0.004, d2=0.071 d=0.037 g=3.336\n",
      ">445, d1=0.000, d2=0.144 d=0.072 g=3.137\n",
      ">446, d1=0.112, d2=0.124 d=0.118 g=3.163\n",
      ">447, d1=0.001, d2=0.146 d=0.073 g=3.173\n",
      ">448, d1=0.015, d2=0.074 d=0.044 g=3.585\n",
      ">449, d1=0.009, d2=0.061 d=0.035 g=3.939\n",
      ">450, d1=0.058, d2=0.046 d=0.052 g=3.916\n",
      ">451, d1=0.045, d2=0.036 d=0.040 g=3.722\n",
      ">452, d1=0.008, d2=0.049 d=0.029 g=3.624\n",
      ">453, d1=0.007, d2=0.079 d=0.043 g=3.558\n",
      ">454, d1=0.003, d2=0.072 d=0.037 g=3.931\n",
      ">455, d1=0.022, d2=0.027 d=0.025 g=4.043\n",
      ">456, d1=0.010, d2=0.024 d=0.017 g=4.059\n",
      ">457, d1=0.025, d2=0.045 d=0.035 g=3.862\n",
      ">458, d1=0.005, d2=0.051 d=0.028 g=3.856\n",
      ">459, d1=0.014, d2=0.030 d=0.022 g=3.829\n",
      ">460, d1=0.005, d2=0.045 d=0.025 g=3.781\n",
      ">461, d1=0.011, d2=0.038 d=0.024 g=3.945\n",
      ">462, d1=0.006, d2=0.038 d=0.022 g=4.200\n",
      ">463, d1=0.027, d2=0.030 d=0.029 g=4.175\n",
      ">464, d1=0.003, d2=0.034 d=0.018 g=4.327\n",
      ">465, d1=0.008, d2=0.021 d=0.014 g=4.350\n",
      ">466, d1=0.081, d2=0.032 d=0.057 g=3.860\n",
      ">467, d1=0.001, d2=0.050 d=0.025 g=3.380\n",
      ">468, d1=0.014, d2=0.044 d=0.029 g=3.646\n",
      ">469, d1=0.001, d2=0.050 d=0.026 g=3.770\n",
      ">470, d1=0.005, d2=0.044 d=0.024 g=3.911\n",
      ">471, d1=0.009, d2=0.030 d=0.020 g=4.113\n",
      ">472, d1=0.004, d2=0.021 d=0.013 g=4.362\n",
      ">473, d1=0.024, d2=0.023 d=0.024 g=4.085\n",
      ">474, d1=0.060, d2=0.048 d=0.054 g=3.320\n",
      ">475, d1=0.012, d2=0.083 d=0.047 g=3.125\n",
      ">476, d1=0.001, d2=0.181 d=0.091 g=3.325\n",
      ">477, d1=0.026, d2=0.047 d=0.036 g=3.878\n",
      ">478, d1=0.012, d2=0.041 d=0.026 g=4.235\n",
      ">479, d1=0.061, d2=0.031 d=0.046 g=4.042\n",
      ">480, d1=0.037, d2=0.085 d=0.061 g=3.545\n",
      ">481, d1=0.011, d2=0.072 d=0.042 g=3.468\n",
      ">482, d1=0.003, d2=0.103 d=0.053 g=3.512\n",
      ">483, d1=0.012, d2=0.060 d=0.036 g=3.862\n",
      ">484, d1=0.032, d2=0.047 d=0.039 g=3.728\n",
      ">485, d1=0.144, d2=0.137 d=0.140 g=2.927\n",
      ">486, d1=0.001, d2=0.243 d=0.122 g=2.631\n",
      ">487, d1=0.001, d2=0.162 d=0.081 g=3.448\n",
      ">488, d1=0.010, d2=0.051 d=0.030 g=4.060\n",
      ">489, d1=0.267, d2=0.111 d=0.189 g=2.517\n",
      ">490, d1=0.003, d2=0.481 d=0.242 g=2.378\n",
      ">491, d1=0.002, d2=0.418 d=0.210 g=3.228\n",
      ">492, d1=0.043, d2=0.029 d=0.036 g=4.235\n",
      ">493, d1=0.752, d2=0.222 d=0.487 g=2.086\n",
      ">494, d1=0.000, d2=1.482 d=0.741 g=1.488\n",
      ">495, d1=0.000, d2=0.807 d=0.404 g=2.291\n",
      ">496, d1=0.001, d2=0.187 d=0.094 g=3.934\n",
      ">497, d1=0.724, d2=0.140 d=0.432 g=2.278\n",
      ">498, d1=0.000, d2=0.683 d=0.341 g=2.102\n",
      ">499, d1=0.000, d2=0.294 d=0.147 g=2.760\n",
      ">500, d1=0.001, d2=0.157 d=0.079 g=3.776\n",
      ">501, d1=0.302, d2=0.161 d=0.232 g=3.196\n",
      ">502, d1=0.003, d2=0.283 d=0.143 g=2.958\n",
      ">503, d1=0.001, d2=0.145 d=0.073 g=3.431\n",
      ">504, d1=0.008, d2=0.055 d=0.032 g=4.248\n",
      ">505, d1=0.125, d2=0.037 d=0.081 g=3.888\n",
      ">506, d1=0.078, d2=0.064 d=0.071 g=3.345\n",
      ">507, d1=0.006, d2=0.140 d=0.073 g=3.247\n",
      ">508, d1=0.003, d2=0.149 d=0.076 g=3.342\n",
      ">509, d1=0.016, d2=0.094 d=0.055 g=3.873\n",
      ">510, d1=0.101, d2=0.034 d=0.068 g=3.647\n",
      ">511, d1=0.084, d2=0.064 d=0.074 g=3.371\n",
      ">512, d1=0.015, d2=0.116 d=0.065 g=3.247\n",
      ">513, d1=0.004, d2=0.252 d=0.128 g=3.641\n",
      ">514, d1=0.046, d2=0.076 d=0.061 g=3.841\n",
      ">515, d1=0.139, d2=0.109 d=0.124 g=3.092\n",
      ">516, d1=0.012, d2=0.194 d=0.103 g=3.131\n",
      ">517, d1=0.005, d2=0.190 d=0.097 g=3.503\n",
      ">518, d1=0.090, d2=0.049 d=0.070 g=3.774\n",
      ">519, d1=0.174, d2=0.168 d=0.171 g=2.743\n",
      ">520, d1=0.003, d2=0.398 d=0.200 g=2.857\n",
      ">521, d1=0.013, d2=0.320 d=0.167 g=3.794\n",
      ">522, d1=0.358, d2=0.142 d=0.250 g=3.067\n",
      ">523, d1=0.005, d2=0.354 d=0.180 g=2.777\n",
      ">524, d1=0.003, d2=0.182 d=0.092 g=3.259\n",
      ">525, d1=0.052, d2=0.085 d=0.068 g=4.144\n",
      ">526, d1=0.364, d2=0.187 d=0.275 g=2.926\n",
      ">527, d1=0.003, d2=0.360 d=0.182 g=3.074\n",
      ">528, d1=0.000, d2=0.216 d=0.108 g=4.110\n",
      ">529, d1=0.118, d2=0.043 d=0.081 g=5.339\n",
      ">530, d1=0.175, d2=0.044 d=0.109 g=4.275\n",
      ">531, d1=0.084, d2=0.151 d=0.118 g=3.180\n",
      ">532, d1=0.002, d2=0.275 d=0.139 g=3.017\n",
      ">533, d1=0.003, d2=0.108 d=0.056 g=3.848\n",
      ">534, d1=0.081, d2=0.064 d=0.073 g=4.175\n",
      ">535, d1=0.146, d2=0.051 d=0.099 g=3.610\n",
      ">536, d1=0.036, d2=0.129 d=0.082 g=3.376\n",
      ">537, d1=0.006, d2=0.155 d=0.081 g=3.611\n",
      ">538, d1=0.047, d2=0.039 d=0.043 g=3.739\n",
      ">539, d1=0.144, d2=0.039 d=0.092 g=3.648\n",
      ">540, d1=0.035, d2=0.089 d=0.062 g=3.129\n",
      ">541, d1=0.063, d2=0.084 d=0.073 g=3.231\n",
      ">542, d1=0.012, d2=0.130 d=0.071 g=2.966\n",
      ">543, d1=0.009, d2=0.187 d=0.098 g=3.776\n",
      ">544, d1=0.050, d2=0.047 d=0.048 g=4.168\n",
      ">545, d1=0.146, d2=0.057 d=0.101 g=3.671\n",
      ">546, d1=0.028, d2=0.142 d=0.085 g=3.518\n",
      ">547, d1=0.021, d2=0.112 d=0.066 g=3.526\n",
      ">548, d1=0.051, d2=0.097 d=0.074 g=3.456\n",
      ">549, d1=0.074, d2=0.062 d=0.068 g=3.415\n",
      ">550, d1=0.031, d2=0.169 d=0.100 g=3.598\n",
      ">551, d1=0.071, d2=0.065 d=0.068 g=3.705\n",
      ">552, d1=0.074, d2=0.083 d=0.078 g=3.271\n",
      ">553, d1=0.016, d2=0.102 d=0.059 g=3.410\n",
      ">554, d1=0.052, d2=0.155 d=0.104 g=3.396\n",
      ">555, d1=0.063, d2=0.068 d=0.065 g=3.435\n",
      ">556, d1=0.085, d2=0.103 d=0.094 g=3.186\n",
      ">557, d1=0.029, d2=0.127 d=0.078 g=3.116\n",
      ">558, d1=0.054, d2=0.190 d=0.122 g=3.474\n",
      ">559, d1=0.068, d2=0.089 d=0.078 g=3.723\n",
      ">560, d1=0.064, d2=0.124 d=0.094 g=3.566\n",
      ">561, d1=0.066, d2=0.096 d=0.081 g=3.288\n",
      ">562, d1=0.091, d2=0.206 d=0.148 g=3.329\n",
      ">563, d1=0.100, d2=0.096 d=0.098 g=3.342\n",
      ">564, d1=0.032, d2=0.163 d=0.098 g=3.690\n",
      ">565, d1=0.057, d2=0.131 d=0.094 g=3.665\n",
      ">566, d1=0.166, d2=0.099 d=0.133 g=3.306\n",
      ">567, d1=0.035, d2=0.132 d=0.084 g=2.848\n",
      ">568, d1=0.043, d2=0.231 d=0.137 g=3.128\n",
      ">569, d1=0.051, d2=0.163 d=0.107 g=3.622\n",
      ">570, d1=0.182, d2=0.129 d=0.155 g=3.337\n",
      ">571, d1=0.043, d2=0.168 d=0.105 g=3.664\n",
      ">572, d1=0.072, d2=0.121 d=0.097 g=3.802\n",
      ">573, d1=0.112, d2=0.115 d=0.114 g=3.164\n",
      ">574, d1=0.085, d2=0.185 d=0.135 g=2.997\n",
      ">575, d1=0.030, d2=0.174 d=0.102 g=3.304\n",
      ">576, d1=0.061, d2=0.187 d=0.124 g=3.436\n",
      ">577, d1=0.094, d2=0.074 d=0.084 g=3.570\n",
      ">578, d1=0.078, d2=0.138 d=0.108 g=3.297\n",
      ">579, d1=0.054, d2=0.157 d=0.106 g=3.342\n",
      ">580, d1=0.033, d2=0.090 d=0.062 g=3.413\n",
      ">581, d1=0.094, d2=0.124 d=0.109 g=3.476\n",
      ">582, d1=0.072, d2=0.141 d=0.106 g=3.488\n",
      ">583, d1=0.092, d2=0.093 d=0.093 g=3.077\n",
      ">584, d1=0.029, d2=0.118 d=0.074 g=3.224\n",
      ">585, d1=0.066, d2=0.166 d=0.116 g=4.005\n",
      ">586, d1=0.177, d2=0.050 d=0.114 g=3.545\n",
      ">587, d1=0.065, d2=0.149 d=0.107 g=3.097\n",
      ">588, d1=0.025, d2=0.410 d=0.218 g=3.365\n",
      ">589, d1=0.033, d2=0.100 d=0.067 g=4.391\n",
      ">590, d1=0.258, d2=0.078 d=0.168 g=3.839\n",
      ">591, d1=0.133, d2=0.253 d=0.193 g=3.395\n",
      ">592, d1=0.077, d2=0.249 d=0.163 g=3.563\n",
      ">593, d1=0.043, d2=0.208 d=0.126 g=4.548\n",
      ">594, d1=0.216, d2=0.073 d=0.144 g=4.440\n",
      ">595, d1=0.170, d2=0.050 d=0.110 g=3.126\n",
      ">596, d1=0.010, d2=0.281 d=0.145 g=2.918\n",
      ">597, d1=0.006, d2=0.225 d=0.115 g=3.525\n",
      ">598, d1=0.021, d2=0.095 d=0.058 g=4.833\n",
      ">599, d1=0.387, d2=0.061 d=0.224 g=3.838\n",
      ">600, d1=0.042, d2=0.170 d=0.106 g=3.516\n",
      ">601, d1=0.011, d2=0.563 d=0.287 g=4.102\n",
      ">602, d1=0.063, d2=0.050 d=0.057 g=5.655\n",
      ">603, d1=0.444, d2=0.042 d=0.243 g=3.716\n",
      ">604, d1=0.009, d2=0.214 d=0.111 g=3.042\n",
      ">605, d1=0.019, d2=0.435 d=0.227 g=3.431\n",
      ">606, d1=0.027, d2=0.111 d=0.069 g=4.898\n",
      ">607, d1=0.363, d2=0.019 d=0.191 g=4.448\n",
      ">608, d1=0.069, d2=0.123 d=0.096 g=3.765\n",
      ">609, d1=0.005, d2=0.131 d=0.068 g=4.000\n",
      ">610, d1=0.022, d2=0.074 d=0.048 g=5.037\n",
      ">611, d1=0.121, d2=0.050 d=0.085 g=5.490\n",
      ">612, d1=0.260, d2=0.073 d=0.166 g=3.796\n",
      ">613, d1=0.031, d2=0.309 d=0.170 g=3.491\n",
      ">614, d1=0.031, d2=0.113 d=0.072 g=3.363\n",
      ">615, d1=0.023, d2=0.180 d=0.101 g=3.942\n",
      ">616, d1=0.068, d2=0.060 d=0.064 g=4.497\n",
      ">617, d1=0.224, d2=0.091 d=0.157 g=3.925\n",
      ">618, d1=0.149, d2=0.216 d=0.182 g=3.541\n",
      ">619, d1=0.103, d2=0.254 d=0.178 g=4.130\n",
      ">620, d1=0.136, d2=0.046 d=0.091 g=3.859\n",
      ">621, d1=0.183, d2=0.248 d=0.215 g=3.078\n",
      ">622, d1=0.096, d2=0.351 d=0.224 g=3.213\n",
      ">623, d1=0.223, d2=0.204 d=0.214 g=3.080\n",
      ">624, d1=0.135, d2=0.453 d=0.294 g=3.564\n",
      ">625, d1=0.374, d2=0.400 d=0.387 g=2.791\n",
      ">626, d1=0.171, d2=0.366 d=0.268 g=2.959\n",
      ">627, d1=0.100, d2=0.256 d=0.178 g=2.906\n",
      ">628, d1=0.576, d2=0.614 d=0.595 g=1.990\n",
      ">629, d1=0.010, d2=0.835 d=0.422 g=2.834\n",
      ">630, d1=0.265, d2=0.192 d=0.229 g=4.060\n",
      ">631, d1=1.108, d2=1.038 d=1.073 g=1.557\n",
      ">632, d1=0.025, d2=2.842 d=1.434 g=1.793\n",
      ">633, d1=0.023, d2=0.358 d=0.190 g=4.608\n",
      ">634, d1=1.153, d2=0.191 d=0.672 g=3.149\n",
      ">635, d1=0.171, d2=0.966 d=0.568 g=2.247\n",
      ">636, d1=0.019, d2=0.453 d=0.236 g=2.455\n",
      ">637, d1=0.028, d2=0.156 d=0.092 g=4.310\n",
      ">638, d1=1.290, d2=0.486 d=0.888 g=2.228\n",
      ">639, d1=0.007, d2=1.226 d=0.616 g=1.952\n",
      ">640, d1=0.011, d2=1.036 d=0.523 g=3.805\n",
      ">641, d1=0.245, d2=0.319 d=0.282 g=4.918\n",
      ">642, d1=1.165, d2=0.119 d=0.642 g=3.155\n",
      ">643, d1=0.016, d2=0.687 d=0.351 g=2.472\n",
      ">644, d1=0.016, d2=0.539 d=0.277 g=3.513\n",
      ">645, d1=0.079, d2=0.130 d=0.104 g=5.000\n",
      ">646, d1=0.514, d2=0.171 d=0.342 g=4.295\n",
      ">647, d1=0.161, d2=0.263 d=0.212 g=2.932\n",
      ">648, d1=0.008, d2=0.444 d=0.226 g=3.085\n",
      ">649, d1=0.005, d2=0.386 d=0.196 g=4.347\n",
      ">650, d1=0.039, d2=0.017 d=0.028 g=6.032\n",
      ">651, d1=0.598, d2=0.028 d=0.313 g=5.014\n",
      ">652, d1=0.077, d2=0.072 d=0.074 g=3.773\n",
      ">653, d1=0.099, d2=0.276 d=0.187 g=3.156\n",
      ">654, d1=0.008, d2=0.327 d=0.167 g=3.637\n",
      ">655, d1=0.015, d2=0.186 d=0.101 g=4.922\n",
      ">656, d1=0.157, d2=0.045 d=0.101 g=5.390\n",
      ">657, d1=0.556, d2=0.089 d=0.322 g=3.431\n",
      ">658, d1=0.021, d2=0.443 d=0.232 g=2.764\n",
      ">659, d1=0.015, d2=0.420 d=0.218 g=3.388\n",
      ">660, d1=0.015, d2=0.140 d=0.078 g=5.088\n",
      ">661, d1=0.843, d2=0.091 d=0.467 g=3.652\n",
      ">662, d1=0.073, d2=0.204 d=0.138 g=2.798\n",
      ">663, d1=0.033, d2=0.629 d=0.331 g=3.109\n",
      ">664, d1=0.123, d2=0.218 d=0.170 g=4.092\n",
      ">665, d1=0.464, d2=0.253 d=0.358 g=3.635\n",
      ">666, d1=0.459, d2=0.393 d=0.426 g=3.117\n",
      ">667, d1=0.086, d2=0.506 d=0.296 g=2.952\n",
      ">668, d1=0.177, d2=0.512 d=0.344 g=3.560\n",
      ">669, d1=0.217, d2=0.171 d=0.194 g=3.994\n",
      ">670, d1=0.390, d2=0.114 d=0.252 g=3.230\n",
      ">671, d1=0.461, d2=0.476 d=0.468 g=2.498\n",
      ">672, d1=0.016, d2=0.839 d=0.427 g=2.835\n",
      ">673, d1=0.022, d2=0.235 d=0.128 g=4.149\n",
      ">674, d1=0.636, d2=0.155 d=0.396 g=3.717\n",
      ">675, d1=0.417, d2=0.262 d=0.340 g=2.627\n",
      ">676, d1=0.069, d2=0.907 d=0.488 g=2.507\n",
      ">677, d1=0.108, d2=0.403 d=0.255 g=3.752\n",
      ">678, d1=0.571, d2=0.252 d=0.412 g=3.135\n",
      ">679, d1=0.336, d2=0.609 d=0.472 g=2.720\n",
      ">680, d1=0.163, d2=0.391 d=0.277 g=2.738\n",
      ">681, d1=0.596, d2=0.582 d=0.589 g=3.114\n",
      ">682, d1=0.317, d2=0.377 d=0.347 g=2.696\n",
      ">683, d1=0.296, d2=0.655 d=0.475 g=2.898\n",
      ">684, d1=0.330, d2=0.467 d=0.398 g=2.939\n",
      ">685, d1=0.560, d2=0.412 d=0.486 g=2.739\n",
      ">686, d1=0.457, d2=0.597 d=0.527 g=2.626\n",
      ">687, d1=0.182, d2=0.532 d=0.357 g=3.019\n",
      ">688, d1=0.375, d2=0.187 d=0.281 g=3.326\n",
      ">689, d1=0.524, d2=0.347 d=0.435 g=2.622\n",
      ">690, d1=0.361, d2=0.473 d=0.417 g=2.940\n",
      ">691, d1=0.100, d2=0.180 d=0.140 g=3.822\n",
      ">692, d1=0.195, d2=0.134 d=0.165 g=3.946\n",
      ">693, d1=0.256, d2=0.108 d=0.182 g=3.584\n",
      ">694, d1=0.235, d2=0.291 d=0.263 g=3.444\n",
      ">695, d1=0.096, d2=0.290 d=0.193 g=3.765\n",
      ">696, d1=0.054, d2=0.057 d=0.055 g=4.736\n",
      ">697, d1=0.169, d2=0.019 d=0.094 g=4.329\n",
      ">698, d1=0.068, d2=0.142 d=0.105 g=4.088\n",
      ">699, d1=0.048, d2=0.137 d=0.093 g=3.728\n",
      ">700, d1=0.051, d2=0.142 d=0.097 g=4.084\n",
      ">701, d1=0.039, d2=0.094 d=0.066 g=4.486\n",
      ">702, d1=0.086, d2=0.028 d=0.057 g=4.778\n",
      ">703, d1=0.189, d2=0.123 d=0.156 g=4.387\n",
      ">704, d1=0.103, d2=0.182 d=0.143 g=3.982\n",
      ">705, d1=0.113, d2=0.144 d=0.128 g=4.105\n",
      ">706, d1=0.081, d2=0.136 d=0.109 g=4.452\n",
      ">707, d1=0.227, d2=0.066 d=0.147 g=4.315\n",
      ">708, d1=0.200, d2=0.142 d=0.171 g=3.497\n",
      ">709, d1=0.093, d2=0.319 d=0.206 g=3.485\n",
      ">710, d1=0.100, d2=0.110 d=0.105 g=3.607\n",
      ">711, d1=0.166, d2=0.222 d=0.194 g=3.768\n",
      ">712, d1=0.274, d2=0.206 d=0.240 g=3.197\n",
      ">713, d1=0.196, d2=0.415 d=0.306 g=3.031\n",
      ">714, d1=0.263, d2=0.269 d=0.266 g=3.366\n",
      ">715, d1=0.585, d2=0.432 d=0.509 g=2.478\n",
      ">716, d1=0.111, d2=1.091 d=0.601 g=3.170\n",
      ">717, d1=0.834, d2=0.397 d=0.616 g=3.520\n",
      ">718, d1=0.893, d2=0.815 d=0.854 g=2.426\n",
      ">719, d1=0.397, d2=1.462 d=0.929 g=2.381\n",
      ">720, d1=0.531, d2=0.392 d=0.462 g=3.283\n",
      ">721, d1=1.117, d2=1.036 d=1.077 g=2.349\n",
      ">722, d1=0.428, d2=0.948 d=0.688 g=2.600\n",
      ">723, d1=0.467, d2=0.958 d=0.713 g=2.879\n",
      ">724, d1=0.946, d2=0.273 d=0.609 g=2.865\n",
      ">725, d1=0.868, d2=0.793 d=0.831 g=2.037\n",
      ">726, d1=0.308, d2=1.034 d=0.671 g=2.725\n",
      ">727, d1=0.563, d2=0.792 d=0.677 g=3.586\n",
      ">728, d1=0.852, d2=0.204 d=0.528 g=3.918\n",
      ">729, d1=1.036, d2=0.498 d=0.767 g=2.742\n",
      ">730, d1=0.229, d2=1.222 d=0.726 g=2.833\n",
      ">731, d1=0.217, d2=0.608 d=0.412 g=4.007\n",
      ">732, d1=0.692, d2=0.080 d=0.386 g=4.396\n",
      ">733, d1=0.643, d2=0.218 d=0.430 g=2.880\n",
      ">734, d1=0.249, d2=0.647 d=0.448 g=2.634\n",
      ">735, d1=0.093, d2=0.395 d=0.244 g=4.099\n",
      ">736, d1=0.265, d2=0.063 d=0.164 g=5.182\n",
      ">737, d1=0.567, d2=0.226 d=0.396 g=4.522\n",
      ">738, d1=0.310, d2=0.267 d=0.289 g=3.233\n",
      ">739, d1=0.104, d2=0.449 d=0.276 g=3.501\n",
      ">740, d1=0.105, d2=0.278 d=0.192 g=4.545\n",
      ">741, d1=0.286, d2=0.059 d=0.173 g=4.779\n",
      ">742, d1=0.307, d2=0.132 d=0.220 g=4.373\n",
      ">743, d1=0.357, d2=0.257 d=0.307 g=3.836\n",
      ">744, d1=0.062, d2=0.142 d=0.102 g=3.882\n",
      ">745, d1=0.105, d2=0.248 d=0.177 g=4.576\n",
      ">746, d1=0.534, d2=0.063 d=0.298 g=4.220\n",
      ">747, d1=0.284, d2=0.386 d=0.335 g=3.741\n",
      ">748, d1=0.231, d2=0.193 d=0.212 g=3.748\n",
      ">749, d1=0.103, d2=0.125 d=0.114 g=4.455\n",
      ">750, d1=0.364, d2=0.081 d=0.222 g=4.091\n",
      ">751, d1=0.494, d2=0.464 d=0.479 g=3.588\n",
      ">752, d1=0.082, d2=0.125 d=0.104 g=4.046\n",
      ">753, d1=0.395, d2=0.203 d=0.299 g=3.997\n",
      ">754, d1=0.404, d2=0.303 d=0.353 g=3.382\n",
      ">755, d1=0.397, d2=0.291 d=0.344 g=3.262\n",
      ">756, d1=0.129, d2=0.406 d=0.267 g=3.408\n",
      ">757, d1=0.445, d2=0.264 d=0.354 g=3.964\n",
      ">758, d1=0.403, d2=0.195 d=0.299 g=3.747\n",
      ">759, d1=0.500, d2=0.544 d=0.522 g=3.160\n",
      ">760, d1=0.347, d2=0.840 d=0.594 g=3.373\n",
      ">761, d1=0.757, d2=0.383 d=0.570 g=3.765\n",
      ">762, d1=0.593, d2=0.274 d=0.433 g=2.938\n",
      ">763, d1=0.440, d2=0.722 d=0.581 g=2.588\n",
      ">764, d1=0.188, d2=0.792 d=0.490 g=3.811\n",
      ">765, d1=0.970, d2=0.373 d=0.672 g=3.868\n",
      ">766, d1=0.806, d2=0.499 d=0.652 g=2.645\n",
      ">767, d1=0.163, d2=0.629 d=0.396 g=2.748\n",
      ">768, d1=0.267, d2=0.767 d=0.517 g=3.574\n",
      ">769, d1=0.515, d2=0.438 d=0.476 g=4.095\n",
      ">770, d1=0.856, d2=0.531 d=0.694 g=3.495\n",
      ">771, d1=0.277, d2=0.741 d=0.509 g=3.468\n",
      ">772, d1=0.714, d2=0.730 d=0.722 g=3.310\n",
      ">773, d1=0.360, d2=0.579 d=0.469 g=4.146\n",
      ">774, d1=0.788, d2=0.375 d=0.582 g=3.688\n",
      ">775, d1=0.683, d2=0.549 d=0.616 g=2.848\n",
      ">776, d1=0.149, d2=0.504 d=0.327 g=2.959\n",
      ">777, d1=0.322, d2=0.319 d=0.320 g=3.624\n",
      ">778, d1=0.613, d2=0.596 d=0.605 g=3.692\n",
      ">779, d1=0.790, d2=0.379 d=0.585 g=3.096\n",
      ">780, d1=0.154, d2=0.547 d=0.350 g=3.116\n",
      ">781, d1=0.514, d2=0.489 d=0.502 g=3.538\n",
      ">782, d1=0.444, d2=0.244 d=0.344 g=3.856\n",
      ">783, d1=0.666, d2=0.570 d=0.618 g=3.685\n",
      ">784, d1=0.477, d2=0.462 d=0.470 g=3.744\n",
      ">785, d1=0.416, d2=0.438 d=0.427 g=4.841\n",
      ">786, d1=0.340, d2=0.193 d=0.267 g=5.076\n",
      ">787, d1=0.423, d2=0.211 d=0.317 g=4.868\n",
      ">788, d1=0.121, d2=0.305 d=0.213 g=5.561\n",
      ">789, d1=0.176, d2=0.152 d=0.164 g=6.126\n",
      ">790, d1=0.587, d2=0.125 d=0.356 g=4.313\n",
      ">791, d1=0.306, d2=0.339 d=0.323 g=3.424\n",
      ">792, d1=0.110, d2=0.286 d=0.198 g=3.877\n",
      ">793, d1=0.310, d2=0.307 d=0.309 g=5.185\n",
      ">794, d1=0.256, d2=0.058 d=0.157 g=6.224\n",
      ">795, d1=0.678, d2=0.062 d=0.370 g=3.954\n",
      ">796, d1=0.140, d2=0.429 d=0.284 g=2.971\n",
      ">797, d1=0.548, d2=0.990 d=0.769 g=3.724\n",
      ">798, d1=0.552, d2=0.475 d=0.514 g=4.374\n",
      ">799, d1=0.882, d2=0.360 d=0.621 g=3.838\n",
      ">800, d1=0.827, d2=1.359 d=1.093 g=2.581\n",
      ">801, d1=0.619, d2=1.725 d=1.172 g=3.472\n",
      ">802, d1=0.933, d2=0.542 d=0.738 g=3.179\n",
      ">803, d1=0.933, d2=0.847 d=0.890 g=3.131\n",
      ">804, d1=0.740, d2=1.409 d=1.074 g=3.058\n",
      ">805, d1=0.567, d2=1.163 d=0.865 g=3.589\n",
      ">806, d1=0.886, d2=0.929 d=0.907 g=3.804\n",
      ">807, d1=0.998, d2=0.981 d=0.990 g=3.520\n",
      ">808, d1=0.586, d2=1.184 d=0.885 g=3.704\n",
      ">809, d1=0.500, d2=0.704 d=0.602 g=3.563\n",
      ">810, d1=1.132, d2=0.989 d=1.061 g=2.840\n",
      ">811, d1=0.797, d2=1.090 d=0.943 g=2.689\n",
      ">812, d1=0.413, d2=0.787 d=0.600 g=3.999\n",
      ">813, d1=1.250, d2=0.853 d=1.051 g=4.018\n",
      ">814, d1=1.739, d2=0.416 d=1.078 g=3.001\n",
      ">815, d1=1.116, d2=1.993 d=1.554 g=2.071\n",
      ">816, d1=0.401, d2=0.935 d=0.668 g=3.302\n",
      ">817, d1=0.959, d2=0.313 d=0.636 g=4.678\n",
      ">818, d1=1.631, d2=0.243 d=0.937 g=4.112\n",
      ">819, d1=2.205, d2=0.964 d=1.585 g=2.213\n",
      ">820, d1=0.548, d2=1.053 d=0.801 g=2.122\n",
      ">821, d1=0.358, d2=1.053 d=0.706 g=3.588\n",
      ">822, d1=1.239, d2=0.373 d=0.806 g=5.481\n",
      ">823, d1=2.273, d2=0.095 d=1.184 g=4.401\n",
      ">824, d1=1.412, d2=0.498 d=0.955 g=2.875\n",
      ">825, d1=0.624, d2=1.089 d=0.856 g=2.636\n",
      ">826, d1=0.766, d2=0.972 d=0.869 g=3.736\n",
      ">827, d1=0.978, d2=0.379 d=0.679 g=4.513\n",
      ">828, d1=2.536, d2=0.229 d=1.382 g=3.865\n",
      ">829, d1=0.663, d2=0.461 d=0.562 g=2.757\n",
      ">830, d1=1.031, d2=1.092 d=1.061 g=3.600\n",
      ">831, d1=0.604, d2=0.192 d=0.398 g=4.641\n",
      ">832, d1=1.263, d2=0.205 d=0.734 g=4.326\n",
      ">833, d1=0.800, d2=0.405 d=0.603 g=3.817\n",
      ">834, d1=0.687, d2=0.216 d=0.452 g=3.711\n",
      ">835, d1=0.321, d2=0.587 d=0.454 g=3.854\n",
      ">836, d1=0.374, d2=0.083 d=0.228 g=4.386\n",
      ">837, d1=0.518, d2=0.112 d=0.315 g=4.677\n",
      ">838, d1=0.425, d2=0.297 d=0.361 g=4.003\n",
      ">839, d1=0.516, d2=0.156 d=0.336 g=3.416\n",
      ">840, d1=0.207, d2=0.389 d=0.298 g=3.472\n",
      ">841, d1=0.270, d2=0.173 d=0.222 g=3.646\n",
      ">842, d1=0.201, d2=0.305 d=0.253 g=4.260\n",
      ">843, d1=0.197, d2=0.070 d=0.134 g=5.212\n",
      ">844, d1=0.372, d2=0.078 d=0.225 g=5.309\n",
      ">845, d1=0.421, d2=0.189 d=0.305 g=4.216\n",
      ">846, d1=0.225, d2=0.272 d=0.248 g=3.776\n",
      ">847, d1=0.046, d2=0.262 d=0.154 g=4.406\n",
      ">848, d1=0.335, d2=0.062 d=0.199 g=4.335\n",
      ">849, d1=0.878, d2=0.314 d=0.596 g=3.527\n",
      ">850, d1=0.163, d2=0.142 d=0.153 g=3.799\n",
      ">851, d1=0.343, d2=0.379 d=0.361 g=3.734\n",
      ">852, d1=0.370, d2=0.334 d=0.352 g=4.957\n",
      ">853, d1=1.272, d2=0.236 d=0.754 g=4.910\n",
      ">854, d1=1.178, d2=0.498 d=0.838 g=3.591\n",
      ">855, d1=0.616, d2=0.532 d=0.574 g=3.336\n",
      ">856, d1=0.809, d2=0.585 d=0.697 g=3.210\n",
      ">857, d1=1.247, d2=0.644 d=0.945 g=3.102\n",
      ">858, d1=0.616, d2=1.067 d=0.842 g=3.792\n",
      ">859, d1=1.189, d2=0.248 d=0.718 g=3.890\n",
      ">860, d1=1.285, d2=0.537 d=0.911 g=3.273\n",
      ">861, d1=0.576, d2=0.603 d=0.589 g=2.823\n",
      ">862, d1=0.446, d2=0.601 d=0.523 g=4.204\n",
      ">863, d1=1.392, d2=0.184 d=0.788 g=3.677\n",
      ">864, d1=0.717, d2=0.515 d=0.616 g=3.189\n",
      ">865, d1=0.718, d2=0.428 d=0.573 g=3.247\n",
      ">866, d1=0.785, d2=0.622 d=0.704 g=2.811\n",
      ">867, d1=0.669, d2=0.341 d=0.505 g=3.764\n",
      ">868, d1=0.876, d2=0.316 d=0.596 g=3.877\n",
      ">869, d1=1.074, d2=0.743 d=0.908 g=3.212\n",
      ">870, d1=0.423, d2=0.389 d=0.406 g=4.004\n",
      ">871, d1=0.625, d2=0.311 d=0.468 g=4.367\n",
      ">872, d1=0.825, d2=0.144 d=0.485 g=4.305\n",
      ">873, d1=0.910, d2=0.376 d=0.643 g=3.679\n",
      ">874, d1=0.390, d2=0.262 d=0.326 g=3.881\n",
      ">875, d1=0.608, d2=0.716 d=0.662 g=3.643\n",
      ">876, d1=0.392, d2=0.263 d=0.328 g=4.995\n",
      ">877, d1=0.638, d2=0.210 d=0.424 g=5.644\n",
      ">878, d1=0.369, d2=0.082 d=0.226 g=5.194\n",
      ">879, d1=0.713, d2=0.160 d=0.437 g=4.181\n",
      ">880, d1=0.187, d2=0.386 d=0.286 g=4.354\n",
      ">881, d1=0.719, d2=0.339 d=0.529 g=4.585\n",
      ">882, d1=0.341, d2=0.199 d=0.270 g=6.067\n",
      ">883, d1=0.712, d2=0.040 d=0.376 g=5.083\n",
      ">884, d1=0.449, d2=0.244 d=0.346 g=3.922\n",
      ">885, d1=0.256, d2=0.689 d=0.472 g=4.405\n",
      ">886, d1=0.210, d2=0.079 d=0.145 g=5.809\n",
      ">887, d1=1.106, d2=0.128 d=0.617 g=4.702\n",
      ">888, d1=0.481, d2=0.232 d=0.356 g=3.430\n",
      ">889, d1=0.484, d2=0.442 d=0.463 g=3.716\n",
      ">890, d1=0.363, d2=0.628 d=0.495 g=4.345\n",
      ">891, d1=0.751, d2=0.143 d=0.447 g=4.608\n",
      ">892, d1=0.780, d2=0.451 d=0.616 g=3.812\n",
      ">893, d1=0.990, d2=0.519 d=0.754 g=3.201\n",
      ">894, d1=0.828, d2=0.780 d=0.804 g=3.497\n",
      ">895, d1=1.247, d2=0.694 d=0.971 g=3.405\n",
      ">896, d1=1.639, d2=0.710 d=1.174 g=2.523\n",
      ">897, d1=0.832, d2=1.622 d=1.227 g=3.745\n",
      ">898, d1=1.892, d2=0.498 d=1.195 g=4.069\n",
      ">899, d1=1.792, d2=0.750 d=1.271 g=3.013\n",
      ">900, d1=1.766, d2=1.855 d=1.810 g=2.262\n",
      ">901, d1=1.059, d2=1.123 d=1.091 g=2.697\n",
      ">902, d1=1.834, d2=1.274 d=1.554 g=3.086\n",
      ">903, d1=2.316, d2=1.126 d=1.721 g=3.539\n",
      ">904, d1=2.966, d2=0.634 d=1.800 g=2.732\n",
      ">905, d1=1.733, d2=2.325 d=2.029 g=2.121\n",
      ">906, d1=1.466, d2=1.369 d=1.417 g=4.187\n",
      ">907, d1=2.102, d2=0.145 d=1.123 g=5.373\n",
      ">908, d1=3.429, d2=0.335 d=1.882 g=2.465\n",
      ">909, d1=1.009, d2=3.039 d=2.024 g=2.325\n",
      ">910, d1=0.519, d2=0.734 d=0.626 g=4.371\n",
      ">911, d1=1.361, d2=0.290 d=0.825 g=5.370\n",
      ">912, d1=1.584, d2=0.180 d=0.882 g=3.047\n",
      ">913, d1=0.389, d2=0.705 d=0.547 g=3.345\n",
      ">914, d1=0.307, d2=0.254 d=0.281 g=4.260\n",
      ">915, d1=0.202, d2=0.129 d=0.165 g=5.329\n",
      ">916, d1=0.229, d2=0.037 d=0.133 g=6.500\n",
      ">917, d1=0.610, d2=0.073 d=0.341 g=4.849\n",
      ">918, d1=0.248, d2=0.352 d=0.300 g=3.847\n",
      ">919, d1=0.080, d2=0.171 d=0.125 g=3.954\n",
      ">920, d1=0.098, d2=0.296 d=0.197 g=4.984\n",
      ">921, d1=0.288, d2=0.036 d=0.162 g=4.884\n",
      ">922, d1=0.461, d2=0.280 d=0.371 g=4.385\n",
      ">923, d1=0.134, d2=0.074 d=0.104 g=4.151\n",
      ">924, d1=0.201, d2=0.366 d=0.284 g=4.082\n",
      ">925, d1=0.216, d2=0.225 d=0.221 g=5.354\n",
      ">926, d1=0.763, d2=0.216 d=0.489 g=4.008\n",
      ">927, d1=0.473, d2=0.510 d=0.492 g=3.468\n",
      ">928, d1=0.634, d2=0.597 d=0.615 g=3.340\n",
      ">929, d1=0.542, d2=0.514 d=0.528 g=4.445\n",
      ">930, d1=1.000, d2=0.129 d=0.565 g=4.290\n",
      ">931, d1=1.052, d2=0.475 d=0.764 g=3.204\n",
      ">932, d1=1.228, d2=1.356 d=1.292 g=3.303\n",
      ">933, d1=1.064, d2=0.355 d=0.709 g=4.644\n",
      ">934, d1=1.809, d2=0.298 d=1.054 g=3.714\n",
      ">935, d1=0.934, d2=1.091 d=1.013 g=3.044\n",
      ">936, d1=0.600, d2=0.790 d=0.695 g=4.195\n",
      ">937, d1=1.175, d2=0.594 d=0.884 g=4.978\n",
      ">938, d1=0.774, d2=0.275 d=0.525 g=5.271\n",
      ">939, d1=0.659, d2=0.157 d=0.408 g=6.241\n",
      ">940, d1=0.394, d2=0.074 d=0.234 g=5.435\n",
      ">941, d1=0.239, d2=0.049 d=0.144 g=5.477\n",
      ">942, d1=0.489, d2=0.337 d=0.413 g=4.328\n",
      ">943, d1=0.110, d2=0.145 d=0.128 g=4.982\n",
      ">944, d1=0.389, d2=0.264 d=0.327 g=5.659\n",
      ">945, d1=0.453, d2=0.029 d=0.241 g=6.003\n",
      ">946, d1=0.670, d2=0.085 d=0.377 g=4.860\n",
      ">947, d1=0.218, d2=0.149 d=0.184 g=4.145\n",
      ">948, d1=0.244, d2=0.221 d=0.233 g=4.411\n",
      ">949, d1=0.428, d2=0.086 d=0.257 g=4.716\n",
      ">950, d1=0.721, d2=0.167 d=0.444 g=4.585\n",
      ">951, d1=0.771, d2=0.288 d=0.529 g=5.048\n",
      ">952, d1=0.592, d2=0.056 d=0.324 g=5.068\n",
      ">953, d1=0.401, d2=0.162 d=0.281 g=4.833\n",
      ">954, d1=1.046, d2=0.191 d=0.618 g=4.219\n",
      ">955, d1=0.694, d2=0.264 d=0.479 g=3.536\n",
      ">956, d1=0.643, d2=0.435 d=0.539 g=4.053\n",
      ">957, d1=1.304, d2=0.422 d=0.863 g=4.182\n",
      ">958, d1=1.169, d2=0.244 d=0.706 g=4.441\n",
      ">959, d1=1.874, d2=0.377 d=1.126 g=2.947\n",
      ">960, d1=2.391, d2=2.074 d=2.232 g=3.708\n",
      ">961, d1=1.225, d2=0.159 d=0.692 g=5.103\n",
      ">962, d1=3.203, d2=0.229 d=1.716 g=3.421\n",
      ">963, d1=1.333, d2=0.926 d=1.130 g=2.105\n",
      ">964, d1=1.074, d2=1.474 d=1.274 g=1.886\n",
      ">965, d1=1.073, d2=1.557 d=1.315 g=3.882\n",
      ">966, d1=1.898, d2=0.114 d=1.006 g=6.287\n",
      ">967, d1=3.191, d2=0.076 d=1.634 g=3.849\n",
      ">968, d1=2.545, d2=2.291 d=2.418 g=1.542\n",
      ">969, d1=1.107, d2=2.250 d=1.678 g=2.557\n",
      ">970, d1=1.995, d2=0.709 d=1.352 g=4.381\n",
      ">971, d1=3.872, d2=0.298 d=2.085 g=4.600\n",
      ">972, d1=3.007, d2=1.141 d=2.074 g=2.512\n",
      ">973, d1=2.180, d2=1.933 d=2.057 g=1.659\n",
      ">974, d1=1.163, d2=2.002 d=1.583 g=3.464\n",
      ">975, d1=1.987, d2=0.158 d=1.073 g=5.835\n",
      ">976, d1=2.775, d2=0.060 d=1.418 g=3.847\n",
      ">977, d1=1.999, d2=1.098 d=1.548 g=1.690\n",
      ">978, d1=1.201, d2=2.471 d=1.836 g=1.748\n",
      ">979, d1=0.578, d2=0.884 d=0.731 g=4.395\n",
      ">980, d1=1.921, d2=0.151 d=1.036 g=5.792\n",
      ">981, d1=2.415, d2=0.128 d=1.271 g=3.751\n",
      ">982, d1=0.844, d2=1.222 d=1.033 g=2.635\n",
      ">983, d1=0.773, d2=0.889 d=0.831 g=3.526\n",
      ">984, d1=0.493, d2=0.397 d=0.445 g=5.834\n",
      ">985, d1=1.272, d2=0.077 d=0.674 g=6.887\n",
      ">986, d1=0.974, d2=0.064 d=0.519 g=4.498\n",
      ">987, d1=1.134, d2=0.450 d=0.792 g=3.113\n",
      ">988, d1=0.344, d2=0.441 d=0.393 g=3.515\n",
      ">989, d1=0.214, d2=0.168 d=0.191 g=4.973\n",
      ">990, d1=0.587, d2=0.096 d=0.342 g=6.157\n",
      ">991, d1=0.722, d2=0.192 d=0.457 g=6.351\n",
      ">992, d1=0.915, d2=0.263 d=0.589 g=5.230\n",
      ">993, d1=0.897, d2=0.193 d=0.545 g=4.567\n",
      ">994, d1=0.259, d2=0.429 d=0.344 g=5.107\n",
      ">995, d1=0.474, d2=0.171 d=0.322 g=5.473\n",
      ">996, d1=0.451, d2=0.110 d=0.280 g=5.808\n",
      ">997, d1=0.637, d2=0.244 d=0.441 g=6.725\n",
      ">998, d1=0.562, d2=0.265 d=0.413 g=7.020\n",
      ">999, d1=0.881, d2=0.045 d=0.463 g=7.187\n",
      ">1000, d1=0.725, d2=0.074 d=0.399 g=5.229\n"
     ]
    },
    {
     "data": {
      "image/png": "[encoded data removed]",
      "text/plain": [
       "<Figure size 432x288 with 1 Axes>"
      ]
     },
     "metadata": {
      "needs_background": "light"
     },
     "output_type": "display_data"
    },
    {
     "name": "stdout",
     "output_type": "stream",
     "text": [
      "WARNING:tensorflow:Compiled the loaded model, but the compiled metrics have yet to be built. `model.compile_metrics` will be empty until you train or evaluate the model.\n"
     ]
    }
   ],
   "source": [
    "# size of the latent space\n",
    "latent_dim = 10\n",
    "# create the discriminator\n",
    "discriminator = define_discriminator()\n",
    "# create the generator\n",
    "generator = define_generator(latent_dim)\n",
    "# create the gan\n",
    "gan_model = define_gan(generator, discriminator)\n",
    "# train model\n",
    "train(generator, discriminator, gan_model, latent_dim)"
   ]
  },
  {
   "cell_type": "markdown",
   "metadata": {},
   "source": [
    "# Evaluate the Quality of Generated Fake Data With Model"
   ]
  },
  {
   "cell_type": "code",
   "execution_count": 26,
   "metadata": {
    "colab": {
     "base_uri": "https://localhost:8080/"
    },
    "id": "RmOXZ3DcCOAR",
    "outputId": "175690ac-657e-44ee-d644-9b41259ee066"
   },
   "outputs": [
    {
     "name": "stdout",
     "output_type": "stream",
     "text": [
      "WARNING:tensorflow:No training configuration found in the save file, so the model was *not* compiled. Compile it manually.\n"
     ]
    }
   ],
   "source": [
    "from keras.models import load_model\n",
    "model = load_model('trained_generated_model_20210205_v3.h5')"
   ]
  },
  {
   "cell_type": "code",
   "execution_count": 27,
   "metadata": {
    "id": "EAM5_7FkCVy_"
   },
   "outputs": [],
   "source": [
    "latent_points = generate_latent_points(10, 750)"
   ]
  },
  {
   "cell_type": "code",
   "execution_count": 28,
   "metadata": {
    "id": "kcx8zmY7CV13"
   },
   "outputs": [],
   "source": [
    "X = model.predict(latent_points)"
   ]
  },
  {
   "cell_type": "code",
   "execution_count": 29,
   "metadata": {
    "id": "4kbLgJ1GcVVv"
   },
   "outputs": [],
   "source": [
    "data_fake = pd.DataFrame(data=X,  columns=['Pregnancies', 'Glucose', 'BloodPressure', 'SkinThickness', 'Insulin',\n",
    "       'BMI', 'DiabetesPedigreeFunction', 'Age', 'Outcome'])"
   ]
  },
  {
   "cell_type": "code",
   "execution_count": 30,
   "metadata": {
    "colab": {
     "base_uri": "https://localhost:8080/",
     "height": 204
    },
    "id": "6PoZhnH8cVY8",
    "outputId": "9b8843dc-0976-4b3c-a084-d9eeae7187aa"
   },
   "outputs": [
    {
     "data": {
      "text/html": [
       "<div>\n",
       "<style scoped>\n",
       "    .dataframe tbody tr th:only-of-type {\n",
       "        vertical-align: middle;\n",
       "    }\n",
       "\n",
       "    .dataframe tbody tr th {\n",
       "        vertical-align: top;\n",
       "    }\n",
       "\n",
       "    .dataframe thead th {\n",
       "        text-align: right;\n",
       "    }\n",
       "</style>\n",
       "<table border=\"1\" class=\"dataframe\">\n",
       "  <thead>\n",
       "    <tr style=\"text-align: right;\">\n",
       "      <th></th>\n",
       "      <th>Pregnancies</th>\n",
       "      <th>Glucose</th>\n",
       "      <th>BloodPressure</th>\n",
       "      <th>SkinThickness</th>\n",
       "      <th>Insulin</th>\n",
       "      <th>BMI</th>\n",
       "      <th>DiabetesPedigreeFunction</th>\n",
       "      <th>Age</th>\n",
       "      <th>Outcome</th>\n",
       "    </tr>\n",
       "  </thead>\n",
       "  <tbody>\n",
       "    <tr>\n",
       "      <th>0</th>\n",
       "      <td>-5.587157</td>\n",
       "      <td>142.952438</td>\n",
       "      <td>70.449402</td>\n",
       "      <td>42.583912</td>\n",
       "      <td>34.781330</td>\n",
       "      <td>39.987133</td>\n",
       "      <td>13.435157</td>\n",
       "      <td>44.033966</td>\n",
       "      <td>-1.395991</td>\n",
       "    </tr>\n",
       "    <tr>\n",
       "      <th>1</th>\n",
       "      <td>-1.727075</td>\n",
       "      <td>50.716831</td>\n",
       "      <td>23.326956</td>\n",
       "      <td>14.478318</td>\n",
       "      <td>41.630535</td>\n",
       "      <td>13.115942</td>\n",
       "      <td>4.717826</td>\n",
       "      <td>14.359137</td>\n",
       "      <td>-1.067208</td>\n",
       "    </tr>\n",
       "    <tr>\n",
       "      <th>2</th>\n",
       "      <td>-3.740470</td>\n",
       "      <td>104.098770</td>\n",
       "      <td>120.334122</td>\n",
       "      <td>68.175903</td>\n",
       "      <td>54.740280</td>\n",
       "      <td>41.646900</td>\n",
       "      <td>10.536823</td>\n",
       "      <td>65.088524</td>\n",
       "      <td>-1.225987</td>\n",
       "    </tr>\n",
       "    <tr>\n",
       "      <th>3</th>\n",
       "      <td>-1.483886</td>\n",
       "      <td>57.116516</td>\n",
       "      <td>93.878220</td>\n",
       "      <td>52.183590</td>\n",
       "      <td>56.217243</td>\n",
       "      <td>26.801222</td>\n",
       "      <td>5.473969</td>\n",
       "      <td>49.191639</td>\n",
       "      <td>-0.364765</td>\n",
       "    </tr>\n",
       "    <tr>\n",
       "      <th>4</th>\n",
       "      <td>-4.245612</td>\n",
       "      <td>102.139671</td>\n",
       "      <td>42.811840</td>\n",
       "      <td>22.556665</td>\n",
       "      <td>15.522375</td>\n",
       "      <td>22.139650</td>\n",
       "      <td>9.287255</td>\n",
       "      <td>28.113611</td>\n",
       "      <td>1.376407</td>\n",
       "    </tr>\n",
       "  </tbody>\n",
       "</table>\n",
       "</div>"
      ],
      "text/plain": [
       "   Pregnancies     Glucose  BloodPressure  SkinThickness    Insulin  \\\n",
       "0    -5.587157  142.952438      70.449402      42.583912  34.781330   \n",
       "1    -1.727075   50.716831      23.326956      14.478318  41.630535   \n",
       "2    -3.740470  104.098770     120.334122      68.175903  54.740280   \n",
       "3    -1.483886   57.116516      93.878220      52.183590  56.217243   \n",
       "4    -4.245612  102.139671      42.811840      22.556665  15.522375   \n",
       "\n",
       "         BMI  DiabetesPedigreeFunction        Age   Outcome  \n",
       "0  39.987133                 13.435157  44.033966 -1.395991  \n",
       "1  13.115942                  4.717826  14.359137 -1.067208  \n",
       "2  41.646900                 10.536823  65.088524 -1.225987  \n",
       "3  26.801222                  5.473969  49.191639 -0.364765  \n",
       "4  22.139650                  9.287255  28.113611  1.376407  "
      ]
     },
     "execution_count": 30,
     "metadata": {},
     "output_type": "execute_result"
    }
   ],
   "source": [
    "data_fake.head()"
   ]
  },
  {
   "cell_type": "code",
   "execution_count": 31,
   "metadata": {
    "colab": {
     "base_uri": "https://localhost:8080/"
    },
    "id": "snJlq64pcVba",
    "outputId": "984f03aa-f568-4f99-8edf-765bcf909022"
   },
   "outputs": [
    {
     "data": {
      "text/plain": [
       "-10.181304"
      ]
     },
     "execution_count": 31,
     "metadata": {},
     "output_type": "execute_result"
    }
   ],
   "source": [
    "data_fake.Outcome.min()"
   ]
  },
  {
   "cell_type": "code",
   "execution_count": 32,
   "metadata": {
    "colab": {
     "base_uri": "https://localhost:8080/"
    },
    "id": "1rc-1gu5cVeC",
    "outputId": "da02e144-7ae4-48ef-eff3-adc1fed91169"
   },
   "outputs": [
    {
     "data": {
      "text/plain": [
       "3.144843"
      ]
     },
     "execution_count": 32,
     "metadata": {},
     "output_type": "execute_result"
    }
   ],
   "source": [
    "data_fake.Outcome.max()"
   ]
  },
  {
   "cell_type": "code",
   "execution_count": 33,
   "metadata": {
    "id": "vRpW0LnxcVgm"
   },
   "outputs": [],
   "source": [
    "outcome_mean = data_fake.Outcome.mean()"
   ]
  },
  {
   "cell_type": "code",
   "execution_count": 34,
   "metadata": {
    "id": "wrBrUtRfcVjM"
   },
   "outputs": [],
   "source": [
    "data_fake['Outcome'] = data_fake['Outcome'] > outcome_mean"
   ]
  },
  {
   "cell_type": "code",
   "execution_count": 35,
   "metadata": {
    "colab": {
     "base_uri": "https://localhost:8080/"
    },
    "id": "vfL9_DUOcVmE",
    "outputId": "acb18e03-6b74-4220-ac2b-0a82da2590c7"
   },
   "outputs": [
    {
     "data": {
      "text/plain": [
       "0       True\n",
       "1       True\n",
       "2       True\n",
       "3       True\n",
       "4       True\n",
       "       ...  \n",
       "745    False\n",
       "746    False\n",
       "747    False\n",
       "748    False\n",
       "749    False\n",
       "Name: Outcome, Length: 750, dtype: bool"
      ]
     },
     "execution_count": 35,
     "metadata": {},
     "output_type": "execute_result"
    }
   ],
   "source": [
    "data_fake['Outcome']"
   ]
  },
  {
   "cell_type": "code",
   "execution_count": 36,
   "metadata": {
    "id": "VcY8Rqw0cVoO"
   },
   "outputs": [],
   "source": [
    "data_fake[\"Outcome\"] = data_fake[\"Outcome\"].astype(int)"
   ]
  },
  {
   "cell_type": "code",
   "execution_count": 37,
   "metadata": {
    "colab": {
     "base_uri": "https://localhost:8080/",
     "height": 204
    },
    "id": "84Y769mhcVrO",
    "outputId": "582b1dc4-76fa-401c-89b7-d0c7225dcff2"
   },
   "outputs": [
    {
     "data": {
      "text/html": [
       "<div>\n",
       "<style scoped>\n",
       "    .dataframe tbody tr th:only-of-type {\n",
       "        vertical-align: middle;\n",
       "    }\n",
       "\n",
       "    .dataframe tbody tr th {\n",
       "        vertical-align: top;\n",
       "    }\n",
       "\n",
       "    .dataframe thead th {\n",
       "        text-align: right;\n",
       "    }\n",
       "</style>\n",
       "<table border=\"1\" class=\"dataframe\">\n",
       "  <thead>\n",
       "    <tr style=\"text-align: right;\">\n",
       "      <th></th>\n",
       "      <th>Pregnancies</th>\n",
       "      <th>Glucose</th>\n",
       "      <th>BloodPressure</th>\n",
       "      <th>SkinThickness</th>\n",
       "      <th>Insulin</th>\n",
       "      <th>BMI</th>\n",
       "      <th>DiabetesPedigreeFunction</th>\n",
       "      <th>Age</th>\n",
       "      <th>Outcome</th>\n",
       "    </tr>\n",
       "  </thead>\n",
       "  <tbody>\n",
       "    <tr>\n",
       "      <th>0</th>\n",
       "      <td>-5.587157</td>\n",
       "      <td>142.952438</td>\n",
       "      <td>70.449402</td>\n",
       "      <td>42.583912</td>\n",
       "      <td>34.781330</td>\n",
       "      <td>39.987133</td>\n",
       "      <td>13.435157</td>\n",
       "      <td>44.033966</td>\n",
       "      <td>1</td>\n",
       "    </tr>\n",
       "    <tr>\n",
       "      <th>1</th>\n",
       "      <td>-1.727075</td>\n",
       "      <td>50.716831</td>\n",
       "      <td>23.326956</td>\n",
       "      <td>14.478318</td>\n",
       "      <td>41.630535</td>\n",
       "      <td>13.115942</td>\n",
       "      <td>4.717826</td>\n",
       "      <td>14.359137</td>\n",
       "      <td>1</td>\n",
       "    </tr>\n",
       "    <tr>\n",
       "      <th>2</th>\n",
       "      <td>-3.740470</td>\n",
       "      <td>104.098770</td>\n",
       "      <td>120.334122</td>\n",
       "      <td>68.175903</td>\n",
       "      <td>54.740280</td>\n",
       "      <td>41.646900</td>\n",
       "      <td>10.536823</td>\n",
       "      <td>65.088524</td>\n",
       "      <td>1</td>\n",
       "    </tr>\n",
       "    <tr>\n",
       "      <th>3</th>\n",
       "      <td>-1.483886</td>\n",
       "      <td>57.116516</td>\n",
       "      <td>93.878220</td>\n",
       "      <td>52.183590</td>\n",
       "      <td>56.217243</td>\n",
       "      <td>26.801222</td>\n",
       "      <td>5.473969</td>\n",
       "      <td>49.191639</td>\n",
       "      <td>1</td>\n",
       "    </tr>\n",
       "    <tr>\n",
       "      <th>4</th>\n",
       "      <td>-4.245612</td>\n",
       "      <td>102.139671</td>\n",
       "      <td>42.811840</td>\n",
       "      <td>22.556665</td>\n",
       "      <td>15.522375</td>\n",
       "      <td>22.139650</td>\n",
       "      <td>9.287255</td>\n",
       "      <td>28.113611</td>\n",
       "      <td>1</td>\n",
       "    </tr>\n",
       "  </tbody>\n",
       "</table>\n",
       "</div>"
      ],
      "text/plain": [
       "   Pregnancies     Glucose  BloodPressure  SkinThickness    Insulin  \\\n",
       "0    -5.587157  142.952438      70.449402      42.583912  34.781330   \n",
       "1    -1.727075   50.716831      23.326956      14.478318  41.630535   \n",
       "2    -3.740470  104.098770     120.334122      68.175903  54.740280   \n",
       "3    -1.483886   57.116516      93.878220      52.183590  56.217243   \n",
       "4    -4.245612  102.139671      42.811840      22.556665  15.522375   \n",
       "\n",
       "         BMI  DiabetesPedigreeFunction        Age  Outcome  \n",
       "0  39.987133                 13.435157  44.033966        1  \n",
       "1  13.115942                  4.717826  14.359137        1  \n",
       "2  41.646900                 10.536823  65.088524        1  \n",
       "3  26.801222                  5.473969  49.191639        1  \n",
       "4  22.139650                  9.287255  28.113611        1  "
      ]
     },
     "execution_count": 37,
     "metadata": {},
     "output_type": "execute_result"
    }
   ],
   "source": [
    "data_fake.head()"
   ]
  },
  {
   "cell_type": "code",
   "execution_count": 38,
   "metadata": {
    "id": "0dvNiScHe5bR"
   },
   "outputs": [],
   "source": [
    "features = ['Pregnancies', 'Glucose', 'BloodPressure', 'SkinThickness', 'Insulin',\n",
    "       'BMI', 'DiabetesPedigreeFunction', 'Age']\n",
    "\n",
    "label = ['Outcome']\n",
    "X_fake_created = data_fake[features]\n",
    "y_fake_created = data_fake[label]"
   ]
  },
  {
   "cell_type": "code",
   "execution_count": 39,
   "metadata": {
    "colab": {
     "base_uri": "https://localhost:8080/"
    },
    "id": "W_xuChgJcVt4",
    "outputId": "4841d444-7ba3-4532-fa0a-0463cf80639d"
   },
   "outputs": [
    {
     "name": "stderr",
     "output_type": "stream",
     "text": [
      "/Users/susman/opt/anaconda3/envs/GANs/lib/python3.7/site-packages/ipykernel_launcher.py:3: DataConversionWarning: A column-vector y was passed when a 1d array was expected. Please change the shape of y to (n_samples,), for example using ravel().\n",
      "  This is separate from the ipykernel package so we can avoid doing imports until\n"
     ]
    },
    {
     "name": "stdout",
     "output_type": "stream",
     "text": [
      "Accuracy of fake data model: 0.9466666666666667\n",
      "Classification report of fake data model:               precision    recall  f1-score   support\n",
      "\n",
      "           0       0.95      0.94      0.94       109\n",
      "           1       0.94      0.96      0.95       116\n",
      "\n",
      "    accuracy                           0.95       225\n",
      "   macro avg       0.95      0.95      0.95       225\n",
      "weighted avg       0.95      0.95      0.95       225\n",
      "\n"
     ]
    }
   ],
   "source": [
    "X_fake_train, X_fake_test, y_fake_train, y_fake_test = train_test_split(X_fake_created, y_fake_created, test_size=0.30, random_state=42)\n",
    "clf_fake = RandomForestClassifier(n_estimators=100)\n",
    "clf_fake.fit(X_fake_train,y_fake_train)\n",
    "\n",
    "y_fake_pred=clf_fake.predict(X_fake_test)\n",
    "print(\"Accuracy of fake data model:\",metrics.accuracy_score(y_fake_test, y_fake_pred))\n",
    "print(\"Classification report of fake data model:\",metrics.classification_report(y_fake_test, y_fake_pred))"
   ]
  },
  {
   "cell_type": "code",
   "execution_count": 40,
   "metadata": {
    "colab": {
     "base_uri": "https://localhost:8080/"
    },
    "id": "gAxlfDFkK5VZ",
    "outputId": "0513dac1-6809-4214-e95e-a64a6f4bf9d5"
   },
   "outputs": [
    {
     "name": "stdout",
     "output_type": "stream",
     "text": [
      "X_final:  [[ -5.587157  142.95244    70.4494     42.58391    34.78133    39.987133\n",
      "   13.435157   44.033966 ]\n",
      " [ -1.7270749  50.71683    23.326956   14.478318   41.630535   13.115942\n",
      "    4.7178264  14.359137 ]\n",
      " [ -3.7404697 104.09877   120.33412    68.1759     54.74028    41.6469\n",
      "   10.536823   65.088524 ]]\n",
      "y_final:  [[ -5.587157  142.95244    70.4494     42.58391    34.78133    39.987133\n",
      "   13.435157   44.033966   -1.3959912]\n",
      " [ -1.7270749  50.71683    23.326956   14.478318   41.630535   13.115942\n",
      "    4.7178264  14.359137   -1.0672083]\n",
      " [ -3.7404697 104.09877   120.33412    68.1759     54.74028    41.6469\n",
      "   10.536823   65.088524   -1.2259871]]\n"
     ]
    }
   ],
   "source": [
    "X_final = X[:, :8]\n",
    "print ('X_final: ', X_final[:3])\n",
    "\n",
    "y_final = X[:, :]\n",
    "print ('y_final: ', y_final[:3])"
   ]
  },
  {
   "cell_type": "code",
   "execution_count": 41,
   "metadata": {
    "id": "Ro9cU9riafVj"
   },
   "outputs": [],
   "source": [
    "X = X [:,:8]"
   ]
  },
  {
   "cell_type": "code",
   "execution_count": 42,
   "metadata": {
    "id": "oEZY783WCV4u"
   },
   "outputs": [
    {
     "name": "stderr",
     "output_type": "stream",
     "text": [
      "/Users/susman/opt/anaconda3/envs/GANs/lib/python3.7/site-packages/sklearn/base.py:451: UserWarning: X does not have valid feature names, but RandomForestClassifier was fitted with feature names\n",
      "  \"X does not have valid feature names, but\"\n"
     ]
    }
   ],
   "source": [
    "y_fake_pred = clf_true.predict(X)"
   ]
  },
  {
   "cell_type": "code",
   "execution_count": 43,
   "metadata": {
    "colab": {
     "base_uri": "https://localhost:8080/"
    },
    "id": "TaR7ypkRCV7R",
    "outputId": "81393e75-a625-4374-9b62-fbda616e3305"
   },
   "outputs": [
    {
     "data": {
      "text/plain": [
       "array([1, 0, 0, 0, 0, 1, 0, 0, 0, 0, 1, 0, 1, 1, 0, 0, 1, 0, 1, 1, 0, 1,\n",
       "       0, 1, 1, 1, 0, 0, 1, 0, 1, 0, 0, 1, 0, 0, 0, 0, 1, 0, 0, 0, 0, 0,\n",
       "       1, 0, 1, 0, 1, 0, 0, 1, 1, 0, 0, 1, 1, 1, 0, 1, 1, 1, 0, 1, 0, 0,\n",
       "       0, 0, 0, 0, 0, 0, 0, 0, 0, 0, 0, 0, 0, 0, 0, 0, 0, 0, 0, 0, 0, 0,\n",
       "       1, 0, 1, 1, 0, 1, 0, 0, 0, 1, 0, 0, 0, 0, 0, 1, 1, 0, 1, 1, 1, 1,\n",
       "       1, 0, 0, 0, 0, 0, 0, 0, 0, 0, 1, 1, 0, 1, 0, 0, 0, 1, 0, 0, 1, 0,\n",
       "       0, 0, 0, 0, 0, 0, 0, 1, 1, 0, 0, 0, 1, 0, 0, 0, 0, 0, 0, 0, 0, 0,\n",
       "       0, 0, 0, 1, 0, 0, 1, 1, 1, 0, 0, 0, 1, 1, 1, 0, 0, 0, 0, 0, 0, 0,\n",
       "       0, 1, 1, 0, 1, 1, 0, 0, 0, 1, 0, 1, 0, 0, 0, 0, 0, 0, 0, 1, 1, 0,\n",
       "       0, 0, 0, 1, 0, 0, 1, 0, 0, 0, 0, 0, 0, 0, 0, 1, 1, 0, 0, 0, 0, 0,\n",
       "       1, 0, 0, 1, 1, 1, 0, 0, 0, 1, 0, 0, 0, 0, 0, 1, 1, 1, 0, 0, 0, 1,\n",
       "       1, 0, 1, 0, 1, 1, 1, 1, 0, 0, 0, 0, 0, 1, 1, 0, 0, 0, 0, 0, 1, 1,\n",
       "       0, 1, 0, 1, 1, 0, 1, 1, 1, 0, 0, 0, 1, 0, 0, 1, 0, 0, 0, 0, 1, 0,\n",
       "       1, 0, 0, 0, 0, 0, 1, 0, 0, 0, 1, 0, 1, 0, 0, 1, 0, 0, 1, 1, 0, 0,\n",
       "       1, 0, 1, 0, 0, 1, 0, 1, 0, 0, 1, 1, 1, 0, 1, 0, 1, 0, 0, 1, 1, 0,\n",
       "       0, 0, 1, 0, 0, 0, 1, 0, 1, 1, 0, 1, 1, 0, 0, 0, 0, 1, 0, 1, 0, 1,\n",
       "       1, 0, 0, 0, 1, 0, 0, 0, 1, 1, 0, 0, 0, 1, 1, 0, 0, 1, 0, 0, 0, 0,\n",
       "       0, 0, 0, 1, 1, 0, 1, 0, 1, 1, 0, 0, 0, 1, 0, 1, 0, 1, 0, 0, 1, 0,\n",
       "       0, 0, 0, 0, 0, 0, 0, 1, 0, 0, 0, 1, 1, 0, 0, 0, 0, 0, 0, 1, 1, 1,\n",
       "       1, 0, 0, 1, 1, 0, 1, 1, 0, 0, 0, 0, 0, 0, 0, 0, 0, 0, 0, 1, 1, 1,\n",
       "       0, 0, 0, 0, 0, 0, 0, 0, 0, 0, 1, 1, 0, 0, 1, 0, 0, 0, 0, 0, 1, 0,\n",
       "       0, 0, 0, 1, 1, 0, 1, 0, 0, 0, 1, 1, 1, 0, 1, 1, 1, 0, 0, 1, 0, 0,\n",
       "       1, 1, 0, 1, 0, 1, 0, 0, 0, 0, 1, 1, 0, 0, 1, 0, 0, 0, 1, 1, 0, 1,\n",
       "       0, 0, 0, 0, 0, 1, 0, 0, 0, 1, 1, 1, 0, 0, 0, 0, 0, 0, 0, 0, 0, 0,\n",
       "       0, 0, 0, 1, 0, 0, 0, 0, 0, 0, 0, 1, 0, 0, 0, 0, 0, 1, 1, 0, 0, 0,\n",
       "       0, 1, 0, 0, 0, 1, 1, 1, 0, 0, 1, 0, 1, 0, 0, 0, 0, 0, 0, 0, 0, 0,\n",
       "       0, 0, 1, 0, 0, 1, 1, 1, 1, 0, 0, 0, 0, 0, 0, 0, 1, 0, 0, 1, 0, 0,\n",
       "       0, 1, 0, 0, 1, 1, 1, 0, 0, 0, 0, 0, 1, 1, 1, 0, 0, 1, 1, 0, 1, 1,\n",
       "       0, 0, 0, 1, 1, 1, 0, 1, 1, 0, 0, 0, 1, 1, 0, 1, 1, 1, 0, 0, 0, 0,\n",
       "       1, 0, 1, 1, 0, 0, 0, 1, 1, 1, 1, 0, 1, 0, 1, 1, 1, 1, 0, 1, 1, 0,\n",
       "       0, 1, 1, 0, 1, 1, 0, 1, 0, 0, 0, 0, 0, 1, 0, 0, 0, 1, 1, 1, 1, 0,\n",
       "       0, 0, 0, 0, 0, 1, 0, 0, 1, 1, 0, 1, 0, 1, 1, 1, 0, 0, 0, 0, 0, 1,\n",
       "       0, 0, 1, 0, 1, 0, 0, 0, 0, 0, 1, 0, 0, 0, 0, 0, 0, 1, 0, 1, 0, 0,\n",
       "       1, 0, 0, 1, 1, 0, 0, 1, 0, 1, 0, 0, 1, 1, 0, 0, 0, 1, 0, 1, 0, 0,\n",
       "       1, 0])"
      ]
     },
     "execution_count": 43,
     "metadata": {},
     "output_type": "execute_result"
    }
   ],
   "source": [
    "y_fake_pred"
   ]
  },
  {
   "cell_type": "markdown",
   "metadata": {},
   "source": [
    "# Evaluate the Quality of Generated Fake Data With Table_evaluator"
   ]
  },
  {
   "cell_type": "code",
   "execution_count": 44,
   "metadata": {
    "colab": {
     "base_uri": "https://localhost:8080/"
    },
    "id": "FqlziOHNDh0j",
    "outputId": "b323bb7f-f9c4-4d5a-faeb-bfc2c334837d"
   },
   "outputs": [
    {
     "data": {
      "text/plain": [
       "(750, 9)"
      ]
     },
     "execution_count": 44,
     "metadata": {},
     "output_type": "execute_result"
    }
   ],
   "source": [
    "data_fake.shape"
   ]
  },
  {
   "cell_type": "code",
   "execution_count": 45,
   "metadata": {
    "colab": {
     "base_uri": "https://localhost:8080/"
    },
    "id": "Wq_WOp5nDh3q",
    "outputId": "d860396f-14fc-422a-cccb-ed4bb132dd45"
   },
   "outputs": [
    {
     "data": {
      "text/plain": [
       "(768, 9)"
      ]
     },
     "execution_count": 45,
     "metadata": {},
     "output_type": "execute_result"
    }
   ],
   "source": [
    "data.shape"
   ]
  },
  {
   "cell_type": "code",
   "execution_count": 46,
   "metadata": {
    "colab": {
     "base_uri": "https://localhost:8080/",
     "height": 204
    },
    "id": "w07TxfyUDh6a",
    "outputId": "44d51e3a-1954-4f67-ba53-068a4d17d1d8"
   },
   "outputs": [
    {
     "data": {
      "text/html": [
       "<div>\n",
       "<style scoped>\n",
       "    .dataframe tbody tr th:only-of-type {\n",
       "        vertical-align: middle;\n",
       "    }\n",
       "\n",
       "    .dataframe tbody tr th {\n",
       "        vertical-align: top;\n",
       "    }\n",
       "\n",
       "    .dataframe thead th {\n",
       "        text-align: right;\n",
       "    }\n",
       "</style>\n",
       "<table border=\"1\" class=\"dataframe\">\n",
       "  <thead>\n",
       "    <tr style=\"text-align: right;\">\n",
       "      <th></th>\n",
       "      <th>Pregnancies</th>\n",
       "      <th>Glucose</th>\n",
       "      <th>BloodPressure</th>\n",
       "      <th>SkinThickness</th>\n",
       "      <th>Insulin</th>\n",
       "      <th>BMI</th>\n",
       "      <th>DiabetesPedigreeFunction</th>\n",
       "      <th>Age</th>\n",
       "      <th>Outcome</th>\n",
       "    </tr>\n",
       "  </thead>\n",
       "  <tbody>\n",
       "    <tr>\n",
       "      <th>0</th>\n",
       "      <td>-5.587157</td>\n",
       "      <td>142.952438</td>\n",
       "      <td>70.449402</td>\n",
       "      <td>42.583912</td>\n",
       "      <td>34.781330</td>\n",
       "      <td>39.987133</td>\n",
       "      <td>13.435157</td>\n",
       "      <td>44.033966</td>\n",
       "      <td>1</td>\n",
       "    </tr>\n",
       "    <tr>\n",
       "      <th>1</th>\n",
       "      <td>-1.727075</td>\n",
       "      <td>50.716831</td>\n",
       "      <td>23.326956</td>\n",
       "      <td>14.478318</td>\n",
       "      <td>41.630535</td>\n",
       "      <td>13.115942</td>\n",
       "      <td>4.717826</td>\n",
       "      <td>14.359137</td>\n",
       "      <td>1</td>\n",
       "    </tr>\n",
       "    <tr>\n",
       "      <th>2</th>\n",
       "      <td>-3.740470</td>\n",
       "      <td>104.098770</td>\n",
       "      <td>120.334122</td>\n",
       "      <td>68.175903</td>\n",
       "      <td>54.740280</td>\n",
       "      <td>41.646900</td>\n",
       "      <td>10.536823</td>\n",
       "      <td>65.088524</td>\n",
       "      <td>1</td>\n",
       "    </tr>\n",
       "    <tr>\n",
       "      <th>3</th>\n",
       "      <td>-1.483886</td>\n",
       "      <td>57.116516</td>\n",
       "      <td>93.878220</td>\n",
       "      <td>52.183590</td>\n",
       "      <td>56.217243</td>\n",
       "      <td>26.801222</td>\n",
       "      <td>5.473969</td>\n",
       "      <td>49.191639</td>\n",
       "      <td>1</td>\n",
       "    </tr>\n",
       "    <tr>\n",
       "      <th>4</th>\n",
       "      <td>-4.245612</td>\n",
       "      <td>102.139671</td>\n",
       "      <td>42.811840</td>\n",
       "      <td>22.556665</td>\n",
       "      <td>15.522375</td>\n",
       "      <td>22.139650</td>\n",
       "      <td>9.287255</td>\n",
       "      <td>28.113611</td>\n",
       "      <td>1</td>\n",
       "    </tr>\n",
       "  </tbody>\n",
       "</table>\n",
       "</div>"
      ],
      "text/plain": [
       "   Pregnancies     Glucose  BloodPressure  SkinThickness    Insulin  \\\n",
       "0    -5.587157  142.952438      70.449402      42.583912  34.781330   \n",
       "1    -1.727075   50.716831      23.326956      14.478318  41.630535   \n",
       "2    -3.740470  104.098770     120.334122      68.175903  54.740280   \n",
       "3    -1.483886   57.116516      93.878220      52.183590  56.217243   \n",
       "4    -4.245612  102.139671      42.811840      22.556665  15.522375   \n",
       "\n",
       "         BMI  DiabetesPedigreeFunction        Age  Outcome  \n",
       "0  39.987133                 13.435157  44.033966        1  \n",
       "1  13.115942                  4.717826  14.359137        1  \n",
       "2  41.646900                 10.536823  65.088524        1  \n",
       "3  26.801222                  5.473969  49.191639        1  \n",
       "4  22.139650                  9.287255  28.113611        1  "
      ]
     },
     "execution_count": 46,
     "metadata": {},
     "output_type": "execute_result"
    }
   ],
   "source": [
    "data_fake.head()"
   ]
  },
  {
   "cell_type": "code",
   "execution_count": 47,
   "metadata": {
    "colab": {
     "base_uri": "https://localhost:8080/",
     "height": 204
    },
    "id": "1Mt-Y-s0Dh9B",
    "outputId": "aaae8035-ae55-49b4-d5d1-c70cfb68f486",
    "scrolled": true
   },
   "outputs": [
    {
     "data": {
      "text/html": [
       "<div>\n",
       "<style scoped>\n",
       "    .dataframe tbody tr th:only-of-type {\n",
       "        vertical-align: middle;\n",
       "    }\n",
       "\n",
       "    .dataframe tbody tr th {\n",
       "        vertical-align: top;\n",
       "    }\n",
       "\n",
       "    .dataframe thead th {\n",
       "        text-align: right;\n",
       "    }\n",
       "</style>\n",
       "<table border=\"1\" class=\"dataframe\">\n",
       "  <thead>\n",
       "    <tr style=\"text-align: right;\">\n",
       "      <th></th>\n",
       "      <th>Pregnancies</th>\n",
       "      <th>Glucose</th>\n",
       "      <th>BloodPressure</th>\n",
       "      <th>SkinThickness</th>\n",
       "      <th>Insulin</th>\n",
       "      <th>BMI</th>\n",
       "      <th>DiabetesPedigreeFunction</th>\n",
       "      <th>Age</th>\n",
       "      <th>Outcome</th>\n",
       "    </tr>\n",
       "  </thead>\n",
       "  <tbody>\n",
       "    <tr>\n",
       "      <th>0</th>\n",
       "      <td>6</td>\n",
       "      <td>148</td>\n",
       "      <td>72</td>\n",
       "      <td>35</td>\n",
       "      <td>0</td>\n",
       "      <td>33.6</td>\n",
       "      <td>0.627</td>\n",
       "      <td>50</td>\n",
       "      <td>1</td>\n",
       "    </tr>\n",
       "    <tr>\n",
       "      <th>1</th>\n",
       "      <td>1</td>\n",
       "      <td>85</td>\n",
       "      <td>66</td>\n",
       "      <td>29</td>\n",
       "      <td>0</td>\n",
       "      <td>26.6</td>\n",
       "      <td>0.351</td>\n",
       "      <td>31</td>\n",
       "      <td>0</td>\n",
       "    </tr>\n",
       "    <tr>\n",
       "      <th>2</th>\n",
       "      <td>8</td>\n",
       "      <td>183</td>\n",
       "      <td>64</td>\n",
       "      <td>0</td>\n",
       "      <td>0</td>\n",
       "      <td>23.3</td>\n",
       "      <td>0.672</td>\n",
       "      <td>32</td>\n",
       "      <td>1</td>\n",
       "    </tr>\n",
       "    <tr>\n",
       "      <th>3</th>\n",
       "      <td>1</td>\n",
       "      <td>89</td>\n",
       "      <td>66</td>\n",
       "      <td>23</td>\n",
       "      <td>94</td>\n",
       "      <td>28.1</td>\n",
       "      <td>0.167</td>\n",
       "      <td>21</td>\n",
       "      <td>0</td>\n",
       "    </tr>\n",
       "    <tr>\n",
       "      <th>4</th>\n",
       "      <td>0</td>\n",
       "      <td>137</td>\n",
       "      <td>40</td>\n",
       "      <td>35</td>\n",
       "      <td>168</td>\n",
       "      <td>43.1</td>\n",
       "      <td>2.288</td>\n",
       "      <td>33</td>\n",
       "      <td>1</td>\n",
       "    </tr>\n",
       "  </tbody>\n",
       "</table>\n",
       "</div>"
      ],
      "text/plain": [
       "   Pregnancies  Glucose  BloodPressure  SkinThickness  Insulin   BMI  \\\n",
       "0            6      148             72             35        0  33.6   \n",
       "1            1       85             66             29        0  26.6   \n",
       "2            8      183             64              0        0  23.3   \n",
       "3            1       89             66             23       94  28.1   \n",
       "4            0      137             40             35      168  43.1   \n",
       "\n",
       "   DiabetesPedigreeFunction  Age  Outcome  \n",
       "0                     0.627   50        1  \n",
       "1                     0.351   31        0  \n",
       "2                     0.672   32        1  \n",
       "3                     0.167   21        0  \n",
       "4                     2.288   33        1  "
      ]
     },
     "execution_count": 47,
     "metadata": {},
     "output_type": "execute_result"
    }
   ],
   "source": [
    "data.head()"
   ]
  },
  {
   "cell_type": "code",
   "execution_count": 48,
   "metadata": {},
   "outputs": [],
   "source": [
    "%load_ext autoreload\n",
    "%autoreload 2"
   ]
  },
  {
   "cell_type": "code",
   "execution_count": 49,
   "metadata": {
    "id": "Z7lwEwoeDveH"
   },
   "outputs": [
    {
     "name": "stdout",
     "output_type": "stream",
     "text": [
      "IPython not installed.\n"
     ]
    }
   ],
   "source": [
    "from table_evaluator import load_data, TableEvaluator"
   ]
  },
  {
   "cell_type": "code",
   "execution_count": 50,
   "metadata": {
    "id": "rrWLSt9_Dvlx"
   },
   "outputs": [],
   "source": [
    "table_evaluator = TableEvaluator(data, data_fake)"
   ]
  },
  {
   "cell_type": "code",
   "execution_count": 51,
   "metadata": {
    "colab": {
     "base_uri": "https://localhost:8080/"
    },
    "id": "YN6tMTUIDvql",
    "outputId": "4bac1817-11e3-4c36-aea7-6a462f3ce6c0"
   },
   "outputs": [
    {
     "name": "stdout",
     "output_type": "stream",
     "text": [
      "\n",
      "Classifier F1-scores and their Jaccard similarities::\n",
      "                             f1_real  f1_fake  jaccard_similarity\n",
      "index                                                            \n",
      "DecisionTreeClassifier_fake   0.5067   0.9267              0.3216\n",
      "DecisionTreeClassifier_real   0.7200   0.3800              0.2658\n",
      "LogisticRegression_fake       0.4800   0.9533              0.3100\n",
      "LogisticRegression_real       0.8200   0.4267              0.2658\n",
      "MLPClassifier_fake            0.4800   0.9733              0.3274\n",
      "MLPClassifier_real            0.7000   0.4067              0.2931\n",
      "RandomForestClassifier_fake   0.4867   0.9267              0.3158\n",
      "RandomForestClassifier_real   0.7400   0.3800              0.1811\n",
      "\n",
      "Privacy results:\n",
      "                                         result\n",
      "Duplicate rows between sets (real/fake)  (0, 0)\n",
      "nearest neighbor mean                    2.0302\n",
      "nearest neighbor std                     0.7986\n",
      "\n",
      "Miscellaneous results:\n",
      "                                  Result\n",
      "Column Correlation Distance RMSE  0.6487\n",
      "Column Correlation distance MAE   0.5400\n",
      "\n",
      "Results:\n",
      "                                                result\n",
      "Basic statistics                                0.9199\n",
      "Correlation column correlations                 0.0785\n",
      "Mean Correlation between fake and real columns  0.9091\n",
      "1 - MAPE Estimator results                      0.2995\n",
      "Similarity Score                                0.5518\n"
     ]
    }
   ],
   "source": [
    "table_evaluator.evaluate(target_col='Outcome')"
   ]
  },
  {
   "cell_type": "code",
   "execution_count": 52,
   "metadata": {
    "colab": {
     "base_uri": "https://localhost:8080/",
     "height": 1000
    },
    "id": "YQhb-sPFDvu-",
    "outputId": "d1be641d-88ec-4af8-efbd-759dbab62e86"
   },
   "outputs": [
    {
     "data": {
      "image/png": "[encoded data removed]",
      "text/plain": [
       "<Figure size 720x360 with 2 Axes>"
      ]
     },
     "metadata": {
      "needs_background": "light"
     },
     "output_type": "display_data"
    },
    {
     "data": {
      "image/png": "[encoded data removed]",
      "text/plain": [
       "<Figure size 1152x1296 with 12 Axes>"
      ]
     },
     "metadata": {
      "needs_background": "light"
     },
     "output_type": "display_data"
    },
    {
     "data": {
      "image/png": "[encoded data removed]",
      "text/plain": [
       "<Figure size 1152x1296 with 9 Axes>"
      ]
     },
     "metadata": {
      "needs_background": "light"
     },
     "output_type": "display_data"
    },
    {
     "data": {
      "image/png": "[encoded data removed]",
      "text/plain": [
       "<Figure size 1728x504 with 6 Axes>"
      ]
     },
     "metadata": {
      "needs_background": "light"
     },
     "output_type": "display_data"
    },
    {
     "data": {
      "image/png": "[encoded data removed]",
      "text/plain": [
       "<Figure size 864x432 with 2 Axes>"
      ]
     },
     "metadata": {},
     "output_type": "display_data"
    }
   ],
   "source": [
    "table_evaluator.visual_evaluation()"
   ]
  },
  {
   "cell_type": "code",
   "execution_count": null,
   "metadata": {
    "id": "ZFKc3zZADvyG"
   },
   "outputs": [],
   "source": []
  }
 ],
 "metadata": {
  "colab": {
   "collapsed_sections": [],
   "name": "test_gan_create_diabetic_data_final_20210210_v10.ipynb",
   "provenance": []
  },
  "kernelspec": {
   "display_name": "Python 3 (ipykernel)",
   "language": "python",
   "name": "python3"
  },
  "language_info": {
   "codemirror_mode": {
    "name": "ipython",
    "version": 3
   },
   "file_extension": ".py",
   "mimetype": "text/x-python",
   "name": "python",
   "nbconvert_exporter": "python",
   "pygments_lexer": "ipython3",
   "version": "3.7.13"
  }
 },
 "nbformat": 4,
 "nbformat_minor": 1
}
